{
 "cells": [
  {
   "cell_type": "markdown",
   "metadata": {
    "id": "MuVouapRmjEW"
   },
   "source": [
    "<center><h2>ALTeGraD 2024<br>Lab Session 1: HAN</h2><h3>Hierarchical Attention Network Using GRU</h3> 8 / 10 / 2024<br> Dr. Guokan Shang, Yang Zhang<br><br>\n",
    "\n",
    "\n",
    "<b>Student name:</b> [fill me]\n",
    "\n",
    "\n",
    "</center>\n",
    "In this lab, you will get familiar with recurrent neural networks (RNNs), self-attention, and the HAN architecture <b>(Yang et al. 2016)</b> using PyTorch. In this architecture, sentence embeddings are first individually produced, and a document embedding is then computed from the sentence embeddings.<br>\n",
    "<b>The deadline for this lab is October 15, 2024 11:59 PM.</b> More details about the submission and the architecture for this lab can be found in the handout PDF.\n"
   ]
  },
  {
   "cell_type": "markdown",
   "metadata": {
    "id": "xJaSJaIP1xRy"
   },
   "source": [
    "### = = = = =  Attention Layer = = = = =\n",
    "In thi section, you will fill the gaps in the code to implement the self-attention layer. This layer will be used later to define the HAN architecture. The basic idea behind attention is that rather than considering the last annotation $h_T$ as a summary of the entire sequence, which is prone to information loss, the annotations at <i>all</i> time steps are used.\n",
    "The self-attention mechanism computes a weighted sum of the annotations, where the weights are determined by trainable parameters. Refer to <b>section 2.2</b> in the handout for the theoretical part, it will be needed to finish the first task.\n",
    "\n",
    "#### <b>Task 1:</b>"
   ]
  },
  {
   "cell_type": "code",
   "execution_count": 1,
   "metadata": {
    "ExecuteTime": {
     "end_time": "2024-10-08T21:53:06.657021Z",
     "start_time": "2024-10-08T21:53:06.652544Z"
    },
    "executionInfo": {
     "elapsed": 3336,
     "status": "ok",
     "timestamp": 1728399577188,
     "user": {
      "displayName": "Paul",
      "userId": "04572641331136024364"
     },
     "user_tz": -120
    },
    "id": "yoM7H0KQncpF"
   },
   "outputs": [],
   "source": [
    "import torch\n",
    "from torch import nn\n",
    "from torch.utils.data import DataLoader\n",
    "\n",
    "class AttentionWithContext(nn.Module):\n",
    "    \"\"\"\n",
    "    Follows the work of Yang et al. [https://www.cs.cmu.edu/~diyiy/docs/naacl16.pdf]\n",
    "    \"Hierarchical Attention Networks for Document Classification\"\n",
    "    by using a context vector to assist the attention\n",
    "    # Input shape\n",
    "        3D tensor with shape: `(samples, steps, features)`.\n",
    "    # Output shape\n",
    "        2D tensor with shape: `(samples, features)`.\n",
    "    \"\"\"\n",
    "\n",
    "    def __init__(self, input_shape, return_coefficients=False, bias=True):\n",
    "        super(AttentionWithContext, self).__init__()\n",
    "        self.return_coefficients = return_coefficients\n",
    "\n",
    "        self.W = nn.Linear(input_shape, input_shape, bias=bias)\n",
    "        self.tanh = nn.Tanh()\n",
    "        self.u = nn.Linear(input_shape, 1, bias=False)\n",
    "\n",
    "        self.init_weights()\n",
    "\n",
    "    def init_weights(self):\n",
    "        initrange = 0.1\n",
    "        self.W.weight.data.uniform_(-initrange, initrange)\n",
    "        self.W.bias.data.uniform_(-initrange, initrange)\n",
    "        self.u.weight.data.uniform_(-initrange, initrange)\n",
    "\n",
    "    def generate_square_subsequent_mask(self, sz):\n",
    "        # do not pass the mask to the next layers\n",
    "        mask = (torch.triu(torch.ones(sz, sz)) == 1).transpose(0, 1)\n",
    "        mask = (\n",
    "            mask.float()\n",
    "            .masked_fill(mask == 0, float(\"-inf\"))\n",
    "            .masked_fill(mask == 1, float(0.0))\n",
    "        )\n",
    "        return mask\n",
    "\n",
    "    def forward(self, x, mask=None):\n",
    "        uit = self.W(x)# fill the gap # compute uit = W . x  where x represents ht\n",
    "        uit = self.tanh(uit)\n",
    "        ait = self.u(uit)\n",
    "        a = torch.exp(ait)\n",
    "\n",
    "        # apply mask after the exp. will be re-normalized next\n",
    "        if mask is not None:\n",
    "            a = a*mask.double()\n",
    "\n",
    "        # in some cases especially in the early stages of training the sum may be almost zero\n",
    "        # and this results in NaN's. A workaround is to add a very small positive number ε to the sum.\n",
    "        eps = 1e-9\n",
    "        a = a / (torch.sum(a, axis=1, keepdim=True) + eps)\n",
    "        weighted_input = torch.sum(a * x, axis=1) #torch.dot(a, x, axis=1)### fill the gap ### # compute the attentional vector\n",
    "        if self.return_coefficients:\n",
    "            return  weighted_input, a### [attentional vector, coefficients] ### use torch.sum to compute s\n",
    "        else:\n",
    "            return  weighted_input### attentional vector only ###"
   ]
  },
  {
   "cell_type": "markdown",
   "metadata": {},
   "source": [
    "\n",
    "### = = = = = Parameters = = = = =\n",
    "In this section, we define the parameters to use in our training. Such as data path, the embedding dimention <b>d</b>, the GRU layer dimensionality <b>n_units</b>, etc..<br>\n",
    "The parameter <b>device</b> is used to train the model on GPU if it is available. for this purpose, if you are using Google Colab, switch your runtime to a GPU runtime to train the model with a maximum speed.<br>\n",
    "<b>Bonus question:</b> What is the purpose of the parameter <i>my_patience</i>?"
   ]
  },
  {
   "cell_type": "code",
   "execution_count": 2,
   "metadata": {
    "ExecuteTime": {
     "end_time": "2024-10-08T21:53:10.840027Z",
     "start_time": "2024-10-08T21:53:10.811835Z"
    },
    "executionInfo": {
     "elapsed": 313,
     "status": "ok",
     "timestamp": 1728399581376,
     "user": {
      "displayName": "Paul",
      "userId": "04572641331136024364"
     },
     "user_tz": -120
    },
    "id": "czsVjxgYnczb"
   },
   "outputs": [
    {
     "name": "stderr",
     "output_type": "stream",
     "text": [
      "/home/plondres/anaconda3/envs/test/lib/python3.10/site-packages/torch/cuda/__init__.py:128: UserWarning: CUDA initialization: CUDA unknown error - this may be due to an incorrectly set up environment, e.g. changing env variable CUDA_VISIBLE_DEVICES after program start. Setting the available devices to be zero. (Triggered internally at /opt/conda/conda-bld/pytorch_1724789115564/work/c10/cuda/CUDAFunctions.cpp:108.)\n",
      "  return torch._C._cuda_getDeviceCount() > 0\n"
     ]
    }
   ],
   "source": [
    "import sys\n",
    "import json\n",
    "import operator\n",
    "import numpy as np\n",
    "\n",
    "path_root = ''\n",
    "path_to_data = path_root + 'data/'\n",
    "\n",
    "d = 30 # dimensionality of word embeddings\n",
    "n_units = 50 # RNN layer dimensionality\n",
    "drop_rate = 0.5 # dropout\n",
    "mfw_idx = 2 # index of the most frequent words in the dictionary\n",
    "            # 0 is for the special padding token\n",
    "            # 1 is for the special out-of-vocabulary token\n",
    "\n",
    "padding_idx = 0\n",
    "oov_idx = 1\n",
    "batch_size = 64\n",
    "nb_epochs = 15\n",
    "my_patience = 2 # for early stopping strategy\n",
    "device = torch.device(\"cuda\" if torch.cuda.is_available() else \"cpu\")"
   ]
  },
  {
   "cell_type": "markdown",
   "metadata": {
    "id": "K8Vot_C7Hlst"
   },
   "source": [
    "### = = = = = Data Loading = = = = =\n",
    "In this section we will use first <b>wget</b> to download the data the we will load it using numpy in the first cell. While in the second cell, we will use these data to define our Pytorch data loader. Note that the data is already preprocessed, tokenized and padded.<br><br>\n",
    "<b>Note: if you are running your notebook on Windows or on MacOS, <i>wget</i> will probably not work if you did not install it manually. In this case, use the provided link to download the data and change the <i>path_to_data</i> in the <i>Parameters</i> section accordingly. Otherwise, you will face no problem on Ubuntu and Google Colab.</b>\n",
    "\n",
    "#### <b>Task 2.1:</b>"
   ]
  },
  {
   "cell_type": "code",
   "execution_count": 3,
   "metadata": {
    "ExecuteTime": {
     "end_time": "2024-10-08T21:53:19.806561Z",
     "start_time": "2024-10-08T21:53:17.792304Z"
    },
    "colab": {
     "base_uri": "https://localhost:8080/"
    },
    "executionInfo": {
     "elapsed": 64407,
     "status": "ok",
     "timestamp": 1728399804992,
     "user": {
      "displayName": "Paul",
      "userId": "04572641331136024364"
     },
     "user_tz": -120
    },
    "id": "UD6hRh0OHlst",
    "outputId": "b0d67217-81ce-4b8d-e35c-2fbc5ba31cfd"
   },
   "outputs": [
    {
     "name": "stdout",
     "output_type": "stream",
     "text": [
      "Archive:  data.zip\n",
      "replace __MACOSX/._data? [y]es, [n]o, [A]ll, [N]one, [r]ename: ^C\n"
     ]
    }
   ],
   "source": [
    "import urllib.request\n",
    "url = \"https://onedrive.live.com/download?cid=AE69638675180117&resid=AE69638675180117%2199289&authkey=AHgxt3xmgG0Fu5A\"\n",
    "output_file = \"data.zip\"\n",
    "urllib.request.urlretrieve(url, output_file)\n",
    "\n",
    "!unzip data.zip\n",
    "\n",
    "my_docs_array_train = np.load(path_to_data + 'docs_train.npy')\n",
    "my_docs_array_test = np.load(path_to_data + 'docs_test.npy')\n",
    "\n",
    "my_labels_array_train = np.load(path_to_data + 'labels_train.npy')\n",
    "my_labels_array_test = np.load(path_to_data + 'labels_test.npy')\n",
    "\n",
    "# load dictionary of word indexes (sorted by decreasing frequency across the corpus)\n",
    "with open(path_to_data + 'word_to_index.json', 'r') as my_file:\n",
    "    word_to_index = json.load(my_file)\n",
    "\n",
    "# invert mapping\n",
    "index_to_word =  {value:key for key,value in word_to_index.items()}### fill the gap (use a dict comprehension) ###\n",
    "input_size = my_docs_array_train.shape"
   ]
  },
  {
   "cell_type": "code",
   "execution_count": 5,
   "metadata": {},
   "outputs": [
    {
     "data": {
      "text/plain": [
       "29936"
      ]
     },
     "execution_count": 5,
     "metadata": {},
     "output_type": "execute_result"
    }
   ],
   "source": [
    "len(word_to_index)"
   ]
  },
  {
   "cell_type": "code",
   "execution_count": 4,
   "metadata": {
    "ExecuteTime": {
     "end_time": "2024-10-08T22:12:46.636128Z",
     "start_time": "2024-10-08T22:12:46.632602Z"
    },
    "executionInfo": {
     "elapsed": 302,
     "status": "ok",
     "timestamp": 1728399905845,
     "user": {
      "displayName": "Paul",
      "userId": "04572641331136024364"
     },
     "user_tz": -120
    },
    "id": "DpsCvmaiJfZc"
   },
   "outputs": [],
   "source": [
    "import numpy\n",
    "import torch\n",
    "from torch.utils.data import DataLoader, Dataset\n",
    "\n",
    "\n",
    "class Dataset_(Dataset):\n",
    "    def __init__(self, x, y):\n",
    "        self.documents = x\n",
    "        self.labels = y\n",
    "\n",
    "    def __len__(self):\n",
    "        return len(self.documents)\n",
    "\n",
    "    def __getitem__(self, index):\n",
    "        document = self.documents[index]\n",
    "        label = self.labels[index]\n",
    "        sample = {\n",
    "            \"document\": torch.tensor(document),\n",
    "            \"label\": torch.tensor(label),\n",
    "            }\n",
    "        return sample\n",
    "\n",
    "\n",
    "def get_loader(x, y, batch_size=32):\n",
    "    dataset = Dataset_(x, y)\n",
    "    data_loader = DataLoader(dataset=dataset,\n",
    "                            batch_size=batch_size,\n",
    "                            shuffle=True,\n",
    "                            pin_memory=True,\n",
    "                            drop_last=True,\n",
    "                            )\n",
    "    return data_loader"
   ]
  },
  {
   "cell_type": "markdown",
   "metadata": {
    "id": "6rzqEGOdHlst"
   },
   "source": [
    "### = = = = = Defining Architecture = = = = =\n",
    "In this section, we define the HAN architecture. We start with <i>AttentionBiGRU</i> module in order to define the sentence encoder (check Figure 3 in the handout). Then, we define the <i>TimeDistributed</i> module to allow us to forward our input (batch of document) as to the sentence encoder as <b>batch of sentences</b>, where each sentence in the document will be considered as a time step. This module also reshape the output to a batch of timesteps representations per document. Finally we define the <b>HAN</b> architecture using <i>TimeDistributed</i>, <i>AttentionWithContext</i> and <i>GRU</i>.\n",
    "\n",
    "#### <b>Task 2.2:</b>"
   ]
  },
  {
   "cell_type": "code",
   "execution_count": 5,
   "metadata": {
    "ExecuteTime": {
     "end_time": "2024-10-08T22:12:49.414257Z",
     "start_time": "2024-10-08T22:12:49.406548Z"
    },
    "executionInfo": {
     "elapsed": 1655,
     "status": "ok",
     "timestamp": 1728402370518,
     "user": {
      "displayName": "Paul",
      "userId": "04572641331136024364"
     },
     "user_tz": -120
    },
    "id": "AMj9j1_pHlst"
   },
   "outputs": [],
   "source": [
    "\n",
    "class AttentionBiGRU(nn.Module):\n",
    "    def __init__(self, input_shape, n_units, index_to_word, dropout=0):\n",
    "        super(AttentionBiGRU, self).__init__()\n",
    "        self.embedding = nn.Embedding(len(word_to_index)+ 2,# fill the gap # we add 2 because of the padding  and out of vocab tokens\n",
    "                                      d, # dimensionality of embedding space\n",
    "                                      padding_idx=0)\n",
    "        self.dropout = nn.Dropout(drop_rate)\n",
    "        self.gru = nn.GRU(input_size=d,\n",
    "                          hidden_size=n_units,\n",
    "                          num_layers=1,\n",
    "                          bias=True,\n",
    "                          batch_first=True,\n",
    "                          bidirectional=True)\n",
    "        self.attention = AttentionWithContext(2*n_units,   # fill the gap # the input shape for the attention layer\n",
    "                                              return_coefficients=True)\n",
    "\n",
    "\n",
    "    def forward(self, sent_ints):\n",
    "        sent_wv = self.embedding(sent_ints)\n",
    "        sent_wv_dr = self.dropout(sent_wv)\n",
    "        sent_wa, _ =  self.gru(sent_wv_dr)# fill the gap # RNN layer\n",
    "        sent_att_vec, word_att_coeffs =  self.attention(sent_wa)# fill the gap # attentional vector for the sent\n",
    "        sent_att_vec_dr = self.dropout(sent_att_vec)\n",
    "        return sent_att_vec_dr, word_att_coeffs\n",
    "\n",
    "class TimeDistributed(nn.Module):\n",
    "    def __init__(self, module, batch_first=False):\n",
    "        super(TimeDistributed, self).__init__()\n",
    "        self.module = module\n",
    "        self.batch_first = batch_first\n",
    "\n",
    "    def forward(self, x):\n",
    "        if len(x.size()) <= 2:\n",
    "            return self.module(x)\n",
    "        # Squash samples and timesteps into a single axis\n",
    "        x_reshape = x.contiguous().view(-1, x.size(-1))  # (samples * timesteps, input_size) (448, 30)\n",
    "        sent_att_vec_dr, word_att_coeffs = self.module(x_reshape)\n",
    "        # We have to reshape the output\n",
    "        if self.batch_first:\n",
    "            sent_att_vec_dr = sent_att_vec_dr.contiguous().view(x.size(0), -1, sent_att_vec_dr.size(-1))  # (samples, timesteps, output_size)\n",
    "            word_att_coeffs = word_att_coeffs.contiguous().view(x.size(0), -1, word_att_coeffs.size(-1))  # (samples, timesteps, output_size)\n",
    "        else:\n",
    "            sent_att_vec_dr = sent_att_vec_dr.view(-1, x.size(1), sent_att_vec_dr.size(-1))  # (timesteps, samples, output_size)\n",
    "            word_att_coeffs = word_att_coeffs.view(-1, x.size(1), word_att_coeffs.size(-1))  # (timesteps, samples, output_size)\n",
    "        return sent_att_vec_dr, word_att_coeffs\n",
    "\n",
    "class HAN(nn.Module):\n",
    "    def __init__(self, input_shape, n_units, index_to_word, dropout=0):\n",
    "        super(HAN, self).__init__()\n",
    "        self.encoder = AttentionBiGRU(input_shape, n_units, index_to_word, dropout)\n",
    "        self.timeDistributed = TimeDistributed(self.encoder, True)\n",
    "        self.dropout = nn.Dropout(drop_rate)\n",
    "        self.gru = nn.GRU(input_size=2*n_units,# fill the gap # the input shape of GRU layer\n",
    "                          hidden_size=n_units,\n",
    "                          num_layers=1,\n",
    "                          bias=True,\n",
    "                          batch_first=True,\n",
    "                          bidirectional=True)\n",
    "        self.attention = AttentionWithContext(2*n_units, # fill the gap # the input shape of between-sentence attention layer\n",
    "                                              return_coefficients=True)\n",
    "        self.lin_out = nn.Linear(2*n_units,   # fill the gap # the input size of the last linear layer\n",
    "                                 1)\n",
    "        self.preds = nn.Sigmoid()\n",
    "\n",
    "    def forward(self, doc_ints):\n",
    "        sent_att_vecs_dr, word_att_coeffs = self.timeDistributed(doc_ints) # fill the gap # get sentence representation\n",
    "        doc_sa, _ = self.gru(sent_att_vecs_dr)\n",
    "        doc_att_vec, sent_att_coeffs = self.attention(doc_sa)\n",
    "        doc_att_vec_dr = self.dropout(doc_att_vec)\n",
    "        doc_att_vec_dr = self.lin_out(doc_att_vec_dr)\n",
    "        return self.preds(doc_att_vec_dr), word_att_coeffs, sent_att_coeffs\n"
   ]
  },
  {
   "cell_type": "markdown",
   "metadata": {
    "id": "sgreR5AcHlst"
   },
   "source": [
    "### = = = = = Training = = = = =\n",
    "In this section, we have two code cells. In the first one, we define our evaluation function to compute the training and validation accuracies. While in the second one, we define our model, loss and optimizer and train the model over <i>nb_epochs</i>.<br>\n",
    "<b>Bonus task:</b> use <a href=\"https://pytorch.org/tutorials/recipes/recipes/tensorboard_with_pytorch.html\" target=\"_blank\">tensorboard</a> to visualize the loss and the validation accuray during the training.\n",
    "\n",
    "#### <b>Task 2.3:</b>"
   ]
  },
  {
   "cell_type": "code",
   "execution_count": 6,
   "metadata": {
    "executionInfo": {
     "elapsed": 857,
     "status": "ok",
     "timestamp": 1728402300379,
     "user": {
      "displayName": "Paul",
      "userId": "04572641331136024364"
     },
     "user_tz": -120
    },
    "id": "ztF2Lkie-C25"
   },
   "outputs": [],
   "source": [
    "def evaluate_accuracy(data_loader, verbose=True):\n",
    "    model.eval()\n",
    "    total_loss = 0.0\n",
    "    ncorrect = ntotal = 0\n",
    "    with torch.no_grad():\n",
    "        for idx, data in enumerate(data_loader):\n",
    "            # inference\n",
    "            output = model(data[\"document\"].to(device))[0]\n",
    "            output = output[:, -1] # only last vector\n",
    "            # total number of examples\n",
    "            ntotal +=  output.shape[0]\n",
    "            # number of correct predictions\n",
    "            predictions = torch.round(output)\n",
    "            ncorrect += torch.sum(predictions == data[\"label\"].to(device))#fill me # number of correct prediction - hint: use torch.sum\n",
    "        acc = ncorrect.item() / ntotal\n",
    "        if verbose:\n",
    "          print(\"validation accuracy: {:3.2f}\".format(acc*100))\n",
    "        return acc"
   ]
  },
  {
   "cell_type": "code",
   "execution_count": 7,
   "metadata": {
    "colab": {
     "base_uri": "https://localhost:8080/",
     "height": 439
    },
    "executionInfo": {
     "elapsed": 2337,
     "status": "error",
     "timestamp": 1728402381873,
     "user": {
      "displayName": "Paul",
      "userId": "04572641331136024364"
     },
     "user_tz": -120
    },
    "id": "RRYiKhZEEidb",
    "outputId": "12cf7289-b855-46b2-bf08-3d2f4e36abb2"
   },
   "outputs": [
    {
     "name": "stdout",
     "output_type": "stream",
     "text": [
      "(25000, 7, 30)\n"
     ]
    },
    {
     "name": "stderr",
     "output_type": "stream",
     "text": [
      "Epoch 1: 100%|██| 390/390 [00:25<00:00, 15.47batch/s, accuracy=58.2, loss=0.663]\n"
     ]
    },
    {
     "name": "stdout",
     "output_type": "stream",
     "text": [
      "===> Epoch 1 Complete: Avg. Loss: 0.6631, Validation Accuracy: 70.81%\n",
      "Validation accuracy improved, saving model...\n",
      "\n"
     ]
    },
    {
     "name": "stderr",
     "output_type": "stream",
     "text": [
      "Epoch 2: 100%|██| 390/390 [00:24<00:00, 15.75batch/s, accuracy=70.8, loss=0.563]\n"
     ]
    },
    {
     "name": "stdout",
     "output_type": "stream",
     "text": [
      "===> Epoch 2 Complete: Avg. Loss: 0.5628, Validation Accuracy: 72.85%\n",
      "Validation accuracy improved, saving model...\n",
      "\n"
     ]
    },
    {
     "name": "stderr",
     "output_type": "stream",
     "text": [
      "Epoch 3: 100%|████| 390/390 [00:24<00:00, 15.73batch/s, accuracy=76, loss=0.495]\n"
     ]
    },
    {
     "name": "stdout",
     "output_type": "stream",
     "text": [
      "===> Epoch 3 Complete: Avg. Loss: 0.4945, Validation Accuracy: 78.46%\n",
      "Validation accuracy improved, saving model...\n",
      "\n"
     ]
    },
    {
     "name": "stderr",
     "output_type": "stream",
     "text": [
      "Epoch 4: 100%|██| 390/390 [00:24<00:00, 15.74batch/s, accuracy=79.1, loss=0.451]\n"
     ]
    },
    {
     "name": "stdout",
     "output_type": "stream",
     "text": [
      "===> Epoch 4 Complete: Avg. Loss: 0.4507, Validation Accuracy: 80.46%\n",
      "Validation accuracy improved, saving model...\n",
      "\n"
     ]
    },
    {
     "name": "stderr",
     "output_type": "stream",
     "text": [
      "Epoch 5: 100%|██| 390/390 [00:24<00:00, 15.79batch/s, accuracy=80.9, loss=0.417]\n"
     ]
    },
    {
     "name": "stdout",
     "output_type": "stream",
     "text": [
      "===> Epoch 5 Complete: Avg. Loss: 0.4173, Validation Accuracy: 82.09%\n",
      "Validation accuracy improved, saving model...\n",
      "\n"
     ]
    },
    {
     "name": "stderr",
     "output_type": "stream",
     "text": [
      "Epoch 6: 100%|██| 390/390 [00:24<00:00, 15.72batch/s, accuracy=81.7, loss=0.402]\n"
     ]
    },
    {
     "name": "stdout",
     "output_type": "stream",
     "text": [
      "===> Epoch 6 Complete: Avg. Loss: 0.4020, Validation Accuracy: 82.15%\n",
      "Validation accuracy improved, saving model...\n",
      "\n"
     ]
    },
    {
     "name": "stderr",
     "output_type": "stream",
     "text": [
      "Epoch 7: 100%|██| 390/390 [00:25<00:00, 15.44batch/s, accuracy=83.4, loss=0.378]\n"
     ]
    },
    {
     "name": "stdout",
     "output_type": "stream",
     "text": [
      "===> Epoch 7 Complete: Avg. Loss: 0.3782, Validation Accuracy: 83.43%\n",
      "Validation accuracy improved, saving model...\n",
      "\n"
     ]
    },
    {
     "name": "stderr",
     "output_type": "stream",
     "text": [
      "Epoch 8: 100%|██| 390/390 [00:25<00:00, 15.20batch/s, accuracy=84.4, loss=0.357]\n"
     ]
    },
    {
     "name": "stdout",
     "output_type": "stream",
     "text": [
      "===> Epoch 8 Complete: Avg. Loss: 0.3571, Validation Accuracy: 83.91%\n",
      "Validation accuracy improved, saving model...\n",
      "\n"
     ]
    },
    {
     "name": "stderr",
     "output_type": "stream",
     "text": [
      "Epoch 9: 100%|██| 390/390 [00:24<00:00, 15.63batch/s, accuracy=85.6, loss=0.342]\n"
     ]
    },
    {
     "name": "stdout",
     "output_type": "stream",
     "text": [
      "===> Epoch 9 Complete: Avg. Loss: 0.3416, Validation Accuracy: 84.35%\n",
      "Validation accuracy improved, saving model...\n",
      "\n"
     ]
    },
    {
     "name": "stderr",
     "output_type": "stream",
     "text": [
      "Epoch 10: 100%|██| 390/390 [00:25<00:00, 15.35batch/s, accuracy=85.8, loss=0.33]\n"
     ]
    },
    {
     "name": "stdout",
     "output_type": "stream",
     "text": [
      "===> Epoch 10 Complete: Avg. Loss: 0.3304, Validation Accuracy: 82.74%\n"
     ]
    },
    {
     "name": "stderr",
     "output_type": "stream",
     "text": [
      "Epoch 11: 100%|█| 390/390 [00:24<00:00, 15.74batch/s, accuracy=86.5, loss=0.316]\n"
     ]
    },
    {
     "name": "stdout",
     "output_type": "stream",
     "text": [
      "===> Epoch 11 Complete: Avg. Loss: 0.3161, Validation Accuracy: 83.29%\n",
      "Validation accuracy did not improve for 2 epochs, stopping training...\n"
     ]
    },
    {
     "name": "stderr",
     "output_type": "stream",
     "text": [
      "Epoch 12: 100%|█| 390/390 [00:24<00:00, 15.63batch/s, accuracy=87.3, loss=0.303]\n"
     ]
    },
    {
     "name": "stdout",
     "output_type": "stream",
     "text": [
      "===> Epoch 12 Complete: Avg. Loss: 0.3028, Validation Accuracy: 83.83%\n"
     ]
    },
    {
     "name": "stderr",
     "output_type": "stream",
     "text": [
      "Epoch 13: 100%|███| 390/390 [00:25<00:00, 15.20batch/s, accuracy=88, loss=0.288]\n"
     ]
    },
    {
     "name": "stdout",
     "output_type": "stream",
     "text": [
      "===> Epoch 13 Complete: Avg. Loss: 0.2877, Validation Accuracy: 84.78%\n",
      "Validation accuracy improved, saving model...\n",
      "\n"
     ]
    },
    {
     "name": "stderr",
     "output_type": "stream",
     "text": [
      "Epoch 14: 100%|█| 390/390 [00:24<00:00, 15.65batch/s, accuracy=88.6, loss=0.281]\n"
     ]
    },
    {
     "name": "stdout",
     "output_type": "stream",
     "text": [
      "===> Epoch 14 Complete: Avg. Loss: 0.2814, Validation Accuracy: 85.09%\n",
      "Validation accuracy improved, saving model...\n",
      "\n"
     ]
    },
    {
     "name": "stderr",
     "output_type": "stream",
     "text": [
      "Epoch 15: 100%|█| 390/390 [00:25<00:00, 15.22batch/s, accuracy=88.7, loss=0.274]\n"
     ]
    },
    {
     "name": "stdout",
     "output_type": "stream",
     "text": [
      "===> Epoch 15 Complete: Avg. Loss: 0.2737, Validation Accuracy: 84.52%\n",
      "Loading best checkpoint...\n",
      "done.\n"
     ]
    },
    {
     "name": "stderr",
     "output_type": "stream",
     "text": [
      "/tmp/ipykernel_50959/2037486081.py:61: FutureWarning: You are using `torch.load` with `weights_only=False` (the current default value), which uses the default pickle module implicitly. It is possible to construct malicious pickle data which will execute arbitrary code during unpickling (See https://github.com/pytorch/pytorch/blob/main/SECURITY.md#untrusted-models for more details). In a future release, the default value for `weights_only` will be flipped to `True`. This limits the functions that could be executed during unpickling. Arbitrary objects will no longer be allowed to be loaded via this mode unless they are explicitly allowlisted by the user via `torch.serialization.add_safe_globals`. We recommend you start setting `weights_only=True` for any use case where you don't have full control of the loaded file. Please open an issue on GitHub for any issues related to this experimental feature.\n",
      "  model.load_state_dict(torch.load('./best_model.pt'))\n"
     ]
    }
   ],
   "source": [
    "from tqdm import tqdm\n",
    "\n",
    "print(input_size)\n",
    "model = HAN(input_size, n_units, index_to_word).to(device)\n",
    "model = model.double()\n",
    "lr = 0.001  # learning rate\n",
    "criterion = nn.BCELoss()# fill the gap, use Binary cross entropy from torch.nn: https://pytorch.org/docs/stable/nn.html#loss-functions\n",
    "optimizer = torch.optim.Adam(model.parameters(), lr=lr) #fill me\n",
    "\n",
    "def train(x_train=my_docs_array_train,\n",
    "          y_train=my_labels_array_train,\n",
    "          x_test=my_docs_array_test,\n",
    "          y_test=my_labels_array_test,\n",
    "          word_dict=index_to_word,\n",
    "          batch_size=batch_size):\n",
    "\n",
    "    train_data = get_loader(x_train, y_train, batch_size)\n",
    "    test_data = get_loader(my_docs_array_test, my_labels_array_test, batch_size)\n",
    "\n",
    "    best_validation_acc = 0.0\n",
    "    p = 0 # patience\n",
    "\n",
    "    for epoch in range(1, nb_epochs + 1):\n",
    "        losses = []\n",
    "        accuracies = []\n",
    "        with tqdm(train_data, unit=\"batch\") as tepoch:\n",
    "            for idx, data in enumerate(tepoch):\n",
    "                tepoch.set_description(f\"Epoch {epoch}\")\n",
    "                model.train()\n",
    "                optimizer.zero_grad()\n",
    "                input = data['document'].to(device)\n",
    "                label = data['label'].to(device)\n",
    "                label = label.double()\n",
    "                output = model.forward(input)[0]\n",
    "                output = output[:, -1]\n",
    "                loss = criterion(output, label)# fill the gap # compute the loss\n",
    "                loss.backward()\n",
    "                torch.nn.utils.clip_grad_norm_(model.parameters(), 0.5) # prevent exploding gradient\n",
    "                optimizer.step()\n",
    "\n",
    "                losses.append(loss.item())\n",
    "                accuracy = torch.sum(torch.round(output) == label).item() / batch_size\n",
    "                accuracies.append(accuracy)\n",
    "                tepoch.set_postfix(loss=sum(losses)/len(losses), accuracy=100. * sum(accuracies)/len(accuracies))\n",
    "\n",
    "        # train_acc = evaluate_accuracy(train_data, False)\n",
    "        test_acc = evaluate_accuracy(test_data, False)\n",
    "        print(\"===> Epoch {} Complete: Avg. Loss: {:.4f}, Validation Accuracy: {:3.2f}%\"\n",
    "              .format(epoch, sum(losses)/len(losses), 100.*test_acc))\n",
    "        if test_acc >= best_validation_acc:\n",
    "            best_validation_acc = test_acc\n",
    "            print(\"Validation accuracy improved, saving model...\")\n",
    "            torch.save(model.state_dict(), './best_model.pt')\n",
    "            p = 0\n",
    "            print()\n",
    "        else:\n",
    "            p += 1\n",
    "            if p==my_patience:\n",
    "                print(\"Validation accuracy did not improve for {} epochs, stopping training...\".format(my_patience))\n",
    "    print(\"Loading best checkpoint...\")\n",
    "    model.load_state_dict(torch.load('./best_model.pt'))\n",
    "    model.eval()\n",
    "    print('done.')\n",
    "\n",
    "train()"
   ]
  },
  {
   "cell_type": "markdown",
   "metadata": {
    "id": "Dvyr8B5QHlst"
   },
   "source": [
    "### = = = = = Extraction of Attention Coefficients = = = = =\n",
    "In this section, we will extract and display the attention coefficients on two levels: sentence level and word level. To do so, we will extract the corresponding weights from our model.\n",
    "#### <b>Task 3:</b>"
   ]
  },
  {
   "cell_type": "code",
   "execution_count": 156,
   "metadata": {
    "id": "UVr8cS4MHlst"
   },
   "outputs": [],
   "source": [
    "# select last review:\n",
    "my_review = my_docs_array_test[-1:,:,:]\n",
    "my_review_tensor = torch.tensor(my_review).to(device)\n",
    "# convert integer review to text:\n",
    "index_to_word[1] = 'OOV'\n",
    "my_review_text = [[index_to_word[idx] for idx in sent if idx in index_to_word] for sent in my_review.tolist()[0]]\n"
   ]
  },
  {
   "cell_type": "markdown",
   "metadata": {
    "id": "wHDJ7JiqHlsu"
   },
   "source": [
    "###   &emsp;&emsp;  = = = = = Attention Over Sentences in the Document = = = = ="
   ]
  },
  {
   "cell_type": "code",
   "execution_count": 157,
   "metadata": {
    "id": "yooWg3kkHlsu"
   },
   "outputs": [
    {
     "name": "stdout",
     "output_type": "stream",
     "text": [
      "9.3 There 's a sign on The Lost Highway that says : OOV SPOILERS OOV ( but you already knew that , did n't you ? )\n",
      "13.19 Since there 's a great deal of people that apparently did not get the point of this movie , I 'd like to contribute my interpretation of why the plot\n",
      "8.65 As others have pointed out , one single viewing of this movie is not sufficient .\n",
      "13.19 If you have the DVD of MD , you can OOV ' by looking at David Lynch 's 'Top 10 OOV to OOV MD ' ( but only upon second\n",
      "16.66 ; ) First of all , Mulholland Drive is downright brilliant .\n",
      "22.72 A masterpiece .\n",
      "16.29 This is the kind of movie that refuse to leave your head .\n"
     ]
    }
   ],
   "source": [
    "model.eval()\n",
    "_, word_coeffs, sent_coeffs = model.forward(my_review_tensor) # fill the gap # get sentence attention coeffs by passing the review to the model - (you need to convert the inout torch tensor)\n",
    "sent_coeffs = sent_coeffs[0,:,:]\n",
    "\n",
    "for elt in zip(sent_coeffs[:,0].tolist(),[' '.join(elt) for elt in my_review_text]):\n",
    "    print(round(elt[0]*100,2),elt[1])"
   ]
  },
  {
   "cell_type": "markdown",
   "metadata": {
    "id": "rII-DNrKHlsu"
   },
   "source": [
    "### &emsp;&emsp; = = = = = Attention Over Words in Each Sentence = = = = ="
   ]
  },
  {
   "cell_type": "code",
   "execution_count": 158,
   "metadata": {
    "colab": {
     "base_uri": "https://localhost:8080/"
    },
    "id": "JyFjAga6Hlsu",
    "outputId": "d9640e73-a3a1-4745-b215-d55470036a3c",
    "scrolled": true
   },
   "outputs": [
    {
     "name": "stdout",
     "output_type": "stream",
     "text": [
      "('There', 0.048563337252485676)\n",
      "(\"'s\", 0.025849583959628816)\n",
      "('a', 0.028587813273898574)\n",
      "('sign', 0.04355052953399748)\n",
      "('on', 0.025250082862194514)\n",
      "('The', 0.02901000337396734)\n",
      "('Lost', 0.03306319126431381)\n",
      "('Highway', 0.02613184784747922)\n",
      "('that', 0.023860317528405)\n",
      "('says', 0.030638861245141556)\n",
      "(':', 0.02141999067591174)\n",
      "('OOV', 0.01897661258439903)\n",
      "('SPOILERS', 0.021001726270985073)\n",
      "('OOV', 0.02042400956842296)\n",
      "('(', 0.02542796123647019)\n",
      "('but', 0.034721342619596855)\n",
      "('you', 0.06008738678082043)\n",
      "('already', 0.05633899964408352)\n",
      "('knew', 0.040666925816231186)\n",
      "('that', 0.027014360270595856)\n",
      "(',', 0.02905833294690097)\n",
      "('did', 0.02672169216172224)\n",
      "(\"n't\", 0.027135842769706157)\n",
      "('you', 0.03398505504720748)\n",
      "('?', 0.039521618077595466)\n",
      "(')', 0.040521820491158884)\n",
      "= = = =\n",
      "('Since', 0.036087622200840774)\n",
      "('there', 0.033341195067722165)\n",
      "(\"'s\", 0.023642330880060593)\n",
      "('a', 0.03375674213173211)\n",
      "('great', 0.07449682680668403)\n",
      "('deal', 0.05787984582802231)\n",
      "('of', 0.026830551114636173)\n",
      "('people', 0.025274808359552633)\n",
      "('that', 0.016983600057598712)\n",
      "('apparently', 0.021079083500714448)\n",
      "('did', 0.017717475103344274)\n",
      "('not', 0.01671614952552176)\n",
      "('get', 0.01649330562121834)\n",
      "('the', 0.019095634141651167)\n",
      "('point', 0.03854822745139691)\n",
      "('of', 0.02456325900005446)\n",
      "('this', 0.030021765934931628)\n",
      "('movie', 0.04190773728697626)\n",
      "(',', 0.054746114971061334)\n",
      "('I', 0.033946365771265745)\n",
      "(\"'d\", 0.04718626636007325)\n",
      "('like', 0.041421849705497615)\n",
      "('to', 0.027373508922275608)\n",
      "('contribute', 0.024011094781195903)\n",
      "('my', 0.025975375841796062)\n",
      "('interpretation', 0.03287373129560517)\n",
      "('of', 0.029700671455805062)\n",
      "('why', 0.03378446353560229)\n",
      "('the', 0.030269299200575906)\n",
      "('plot', 0.06427509802417081)\n",
      "= = = =\n",
      "('As', 0.03440077325607537)\n",
      "('others', 0.03267738957415042)\n",
      "('have', 0.023726888174168483)\n",
      "('pointed', 0.02560961892319322)\n",
      "('out', 0.025943398899905327)\n",
      "(',', 0.02670925627997263)\n",
      "('one', 0.024016887779506776)\n",
      "('single', 0.044998321176076966)\n",
      "('viewing', 0.05029108935457053)\n",
      "('of', 0.036506313212522915)\n",
      "('this', 0.0464674242086809)\n",
      "('movie', 0.05062337679782206)\n",
      "('is', 0.04070656387104292)\n",
      "('not', 0.04215232833395003)\n",
      "('sufficient', 0.047083655772856)\n",
      "('.', 0.02954104092225565)\n",
      "= = = =\n",
      "('If', 0.06119649827613624)\n",
      "('you', 0.0448670515216859)\n",
      "('have', 0.026677969904330023)\n",
      "('the', 0.024416081445332888)\n",
      "('DVD', 0.03463397325862371)\n",
      "('of', 0.02457028758625515)\n",
      "('MD', 0.029725401385272694)\n",
      "(',', 0.027768812584081533)\n",
      "('you', 0.026764459548593862)\n",
      "('can', 0.027762975393541407)\n",
      "('OOV', 0.02085100478668448)\n",
      "(\"'\", 0.02704736456020503)\n",
      "('by', 0.029260914550580008)\n",
      "('looking', 0.05400276427133976)\n",
      "('at', 0.03618739658494974)\n",
      "('David', 0.04884493977654452)\n",
      "('Lynch', 0.02891943734333754)\n",
      "(\"'s\", 0.031868657221719596)\n",
      "(\"'Top\", 0.04683248701261783)\n",
      "('10', 0.0368497457274981)\n",
      "('OOV', 0.026587793844727262)\n",
      "('to', 0.022105670005309653)\n",
      "('OOV', 0.017987510769120817)\n",
      "('MD', 0.026956750703837035)\n",
      "(\"'\", 0.023088492791775314)\n",
      "('(', 0.027746649900253117)\n",
      "('but', 0.030405236833618517)\n",
      "('only', 0.037598993142268444)\n",
      "('upon', 0.060993709782289345)\n",
      "('second', 0.03748096934178745)\n",
      "= = = =\n",
      "(';', 0.03911762215441744)\n",
      "(')', 0.035867503330015066)\n",
      "('First', 0.07005332795374823)\n",
      "('of', 0.022722060249275082)\n",
      "('all', 0.030776559737625577)\n",
      "(',', 0.024532119093087796)\n",
      "('Mulholland', 0.03601773887038304)\n",
      "('Drive', 0.03150585992340916)\n",
      "('is', 0.0285906085970485)\n",
      "('downright', 0.10407708274608372)\n",
      "('brilliant', 0.0783909096742629)\n",
      "('.', 0.04511150500136931)\n",
      "= = = =\n",
      "('A', 0.06114394551660491)\n",
      "('masterpiece', 0.07377155614508242)\n",
      "('.', 0.04827570949279842)\n",
      "= = = =\n",
      "('This', 0.045116158993374865)\n",
      "('is', 0.05090170047936395)\n",
      "('the', 0.10620848399051308)\n",
      "('kind', 0.1730334282015788)\n",
      "('of', 0.05466244929992818)\n",
      "('movie', 0.02750859257913604)\n",
      "('that', 0.019786236616873353)\n",
      "('refuse', 0.014403444659187935)\n",
      "('to', 0.016285184031132664)\n",
      "('leave', 0.01939274088729868)\n",
      "('your', 0.024258209495254472)\n",
      "('head', 0.03312624355812329)\n",
      "('.', 0.0242878089110285)\n",
      "= = = =\n",
      "('you', 0.06008738678082043)\n",
      "('already', 0.05633899964408352)\n",
      "('There', 0.048563337252485676)\n",
      "('sign', 0.04355052953399748)\n",
      "('knew', 0.040666925816231186)\n",
      "(')', 0.040521820491158884)\n",
      "('?', 0.039521618077595466)\n",
      "('but', 0.034721342619596855)\n",
      "('you', 0.03398505504720748)\n",
      "('Lost', 0.03306319126431381)\n",
      "('says', 0.030638861245141556)\n",
      "(',', 0.02905833294690097)\n",
      "('The', 0.02901000337396734)\n",
      "('a', 0.028587813273898574)\n",
      "(\"n't\", 0.027135842769706157)\n",
      "('that', 0.027014360270595856)\n",
      "('did', 0.02672169216172224)\n",
      "('Highway', 0.02613184784747922)\n",
      "(\"'s\", 0.025849583959628816)\n",
      "('(', 0.02542796123647019)\n",
      "('on', 0.025250082862194514)\n",
      "('that', 0.023860317528405)\n",
      "(':', 0.02141999067591174)\n",
      "('SPOILERS', 0.021001726270985073)\n",
      "('OOV', 0.02042400956842296)\n",
      "('OOV', 0.01897661258439903)\n",
      "= = = =\n",
      "('great', 0.07449682680668403)\n",
      "('plot', 0.06427509802417081)\n",
      "('deal', 0.05787984582802231)\n",
      "(',', 0.054746114971061334)\n",
      "(\"'d\", 0.04718626636007325)\n",
      "('movie', 0.04190773728697626)\n",
      "('like', 0.041421849705497615)\n",
      "('point', 0.03854822745139691)\n",
      "('Since', 0.036087622200840774)\n",
      "('I', 0.033946365771265745)\n",
      "('why', 0.03378446353560229)\n",
      "('a', 0.03375674213173211)\n",
      "('there', 0.033341195067722165)\n",
      "('interpretation', 0.03287373129560517)\n",
      "('the', 0.030269299200575906)\n",
      "('this', 0.030021765934931628)\n",
      "('of', 0.029700671455805062)\n",
      "('to', 0.027373508922275608)\n",
      "('of', 0.026830551114636173)\n",
      "('my', 0.025975375841796062)\n",
      "('people', 0.025274808359552633)\n",
      "('of', 0.02456325900005446)\n",
      "('contribute', 0.024011094781195903)\n",
      "(\"'s\", 0.023642330880060593)\n",
      "('apparently', 0.021079083500714448)\n",
      "('the', 0.019095634141651167)\n",
      "('did', 0.017717475103344274)\n",
      "('that', 0.016983600057598712)\n",
      "('not', 0.01671614952552176)\n",
      "('get', 0.01649330562121834)\n",
      "= = = =\n",
      "('movie', 0.05062337679782206)\n",
      "('viewing', 0.05029108935457053)\n",
      "('sufficient', 0.047083655772856)\n",
      "('this', 0.0464674242086809)\n",
      "('single', 0.044998321176076966)\n",
      "('not', 0.04215232833395003)\n",
      "('is', 0.04070656387104292)\n",
      "('of', 0.036506313212522915)\n",
      "('As', 0.03440077325607537)\n",
      "('others', 0.03267738957415042)\n",
      "('.', 0.02954104092225565)\n",
      "(',', 0.02670925627997263)\n",
      "('out', 0.025943398899905327)\n",
      "('pointed', 0.02560961892319322)\n",
      "('one', 0.024016887779506776)\n",
      "('have', 0.023726888174168483)\n",
      "= = = =\n",
      "('If', 0.06119649827613624)\n",
      "('upon', 0.060993709782289345)\n",
      "('looking', 0.05400276427133976)\n",
      "('David', 0.04884493977654452)\n",
      "(\"'Top\", 0.04683248701261783)\n",
      "('you', 0.0448670515216859)\n",
      "('only', 0.037598993142268444)\n",
      "('second', 0.03748096934178745)\n",
      "('10', 0.0368497457274981)\n",
      "('at', 0.03618739658494974)\n",
      "('DVD', 0.03463397325862371)\n",
      "(\"'s\", 0.031868657221719596)\n",
      "('but', 0.030405236833618517)\n",
      "('MD', 0.029725401385272694)\n",
      "('by', 0.029260914550580008)\n",
      "('Lynch', 0.02891943734333754)\n",
      "(',', 0.027768812584081533)\n",
      "('can', 0.027762975393541407)\n",
      "('(', 0.027746649900253117)\n",
      "(\"'\", 0.02704736456020503)\n",
      "('MD', 0.026956750703837035)\n",
      "('you', 0.026764459548593862)\n",
      "('have', 0.026677969904330023)\n",
      "('OOV', 0.026587793844727262)\n",
      "('of', 0.02457028758625515)\n",
      "('the', 0.024416081445332888)\n",
      "(\"'\", 0.023088492791775314)\n",
      "('to', 0.022105670005309653)\n",
      "('OOV', 0.02085100478668448)\n",
      "('OOV', 0.017987510769120817)\n",
      "= = = =\n",
      "('downright', 0.10407708274608372)\n",
      "('brilliant', 0.0783909096742629)\n",
      "('First', 0.07005332795374823)\n",
      "('.', 0.04511150500136931)\n",
      "(';', 0.03911762215441744)\n",
      "('Mulholland', 0.03601773887038304)\n",
      "(')', 0.035867503330015066)\n",
      "('Drive', 0.03150585992340916)\n",
      "('all', 0.030776559737625577)\n",
      "('is', 0.0285906085970485)\n",
      "(',', 0.024532119093087796)\n",
      "('of', 0.022722060249275082)\n",
      "= = = =\n",
      "('masterpiece', 0.07377155614508242)\n",
      "('A', 0.06114394551660491)\n",
      "('.', 0.04827570949279842)\n",
      "= = = =\n",
      "('kind', 0.1730334282015788)\n",
      "('the', 0.10620848399051308)\n",
      "('of', 0.05466244929992818)\n",
      "('is', 0.05090170047936395)\n",
      "('This', 0.045116158993374865)\n",
      "('head', 0.03312624355812329)\n",
      "('movie', 0.02750859257913604)\n",
      "('.', 0.0242878089110285)\n",
      "('your', 0.024258209495254472)\n",
      "('that', 0.019786236616873353)\n",
      "('leave', 0.01939274088729868)\n",
      "('to', 0.016285184031132664)\n",
      "('refuse', 0.014403444659187935)\n",
      "= = = =\n"
     ]
    }
   ],
   "source": [
    "word_coeffs_list = word_coeffs.reshape(7,30).tolist()\n",
    "\n",
    "# match text and coefficients:\n",
    "text_word_coeffs = [list(zip(words,word_coeffs_list[idx][:len(words)])) for idx,words in enumerate(my_review_text)]\n",
    "\n",
    "for sent in text_word_coeffs:\n",
    "    [print(elt) for elt in sent]\n",
    "    print('= = = =')\n",
    "\n",
    "# sort words by importance within each sentence:\n",
    "text_word_coeffs_sorted = [sorted(elt,key=operator.itemgetter(1),reverse=True) for elt in text_word_coeffs]\n",
    "\n",
    "for sent in text_word_coeffs_sorted:\n",
    "    [print(elt) for elt in sent]\n",
    "    print('= = = =')"
   ]
  },
  {
   "cell_type": "code",
   "execution_count": 160,
   "metadata": {
    "id": "C9JblVhaHlsu"
   },
   "outputs": [
    {
     "name": "stderr",
     "output_type": "stream",
     "text": [
      "/tmp/ipykernel_50959/1092512578.py:23: DeprecationWarning: Importing display from IPython.core.display is deprecated since IPython 7.14, please import from IPython display\n",
      "  from IPython.core.display import display, HTML\n",
      "/tmp/ipykernel_50959/1092512578.py:7: MatplotlibDeprecationWarning: The get_cmap function was deprecated in Matplotlib 3.7 and will be removed in 3.11. Use ``matplotlib.colormaps[name]`` or ``matplotlib.colormaps.get_cmap()`` or ``pyplot.get_cmap()`` instead.\n",
      "  cmap = cm.get_cmap(cmap_name)\n"
     ]
    },
    {
     "data": {
      "text/html": [
       "<span style=\"color:#f85d42\">There</span> <span style=\"color:#fca285\">'s</span> <span style=\"color:#fc9b7c\">a</span> <span style=\"color:#fb6e4e\">sign</span> <span style=\"color:#fca486\">on</span> <span style=\"color:#fc997a\">The</span> <span style=\"color:#fc8d6d\">Lost</span> <span style=\"color:#fca183\">Highway</span> <span style=\"color:#fca98c\">that</span> <span style=\"color:#fc9474\">says</span> <span style=\"color:#fcaf93\">:</span> <span style=\"color:#fcb79c\">OOV</span> <span style=\"color:#fcb095\">SPOILERS</span> <span style=\"color:#fcb398\">OOV</span> <span style=\"color:#fca486\">(</span> <span style=\"color:#fc8767\">but</span> <span style=\"color:#eb372a\">you</span> <span style=\"color:#f14331\">already</span> <span style=\"color:#fb7757\">knew</span> <span style=\"color:#fc9e80\">that</span> <span style=\"color:#fc997a\">,</span> <span style=\"color:#fca082\">did</span> <span style=\"color:#fc9e80\">n't</span> <span style=\"color:#fc8a6a\">you</span> <span style=\"color:#fb7a5a\">?</span> <span style=\"color:#fb7757\">)</span>  9.30<br><span style=\"color:#fc8464\">Since</span> <span style=\"color:#fc8d6d\">there</span> <span style=\"color:#fca98c\">'s</span> <span style=\"color:#fc8b6b\">a</span> <span style=\"color:#c5171c\">great</span> <span style=\"color:#f03f2e\">deal</span> <span style=\"color:#fca082\">of</span> <span style=\"color:#fca486\">people</span> <span style=\"color:#fcbda4\">that</span> <span style=\"color:#fcb095\">apparently</span> <span style=\"color:#fcbba1\">did</span> <span style=\"color:#fcbda4\">not</span> <span style=\"color:#fcbea5\">get</span> <span style=\"color:#fcb79c\">the</span> <span style=\"color:#fb7d5d\">point</span> <span style=\"color:#fca689\">of</span> <span style=\"color:#fc9576\">this</span> <span style=\"color:#fb7353\">movie</span> <span style=\"color:#f34935\">,</span> <span style=\"color:#fc8a6a\">I</span> <span style=\"color:#f96245\">'d</span> <span style=\"color:#fb7555\">like</span> <span style=\"color:#fc9e80\">to</span> <span style=\"color:#fca78b\">contribute</span> <span style=\"color:#fca285\">my</span> <span style=\"color:#fc8e6e\">interpretation</span> <span style=\"color:#fc9777\">of</span> <span style=\"color:#fc8b6b\">why</span> <span style=\"color:#fc9576\">the</span> <span style=\"color:#e12d26\">plot</span>  13.19<br><span style=\"color:#fc8969\">As</span> <span style=\"color:#fc8e6e\">others</span> <span style=\"color:#fca98c\">have</span> <span style=\"color:#fca486\">pointed</span> <span style=\"color:#fca285\">out</span> <span style=\"color:#fca082\">,</span> <span style=\"color:#fca78b\">one</span> <span style=\"color:#fb6b4b\">single</span> <span style=\"color:#f6583e\">viewing</span> <span style=\"color:#fc8262\">of</span> <span style=\"color:#fa6547\">this</span> <span style=\"color:#f6563d\">movie</span> <span style=\"color:#fb7656\">is</span> <span style=\"color:#fb7252\">not</span> <span style=\"color:#f96346\">sufficient</span> <span style=\"color:#fc9777\">.</span>  8.65<br><span style=\"color:#e93529\">If</span> <span style=\"color:#fb6b4b\">you</span> <span style=\"color:#fca082\">have</span> <span style=\"color:#fca689\">the</span> <span style=\"color:#fc8969\">DVD</span> <span style=\"color:#fca689\">of</span> <span style=\"color:#fc9777\">MD</span> <span style=\"color:#fc9d7f\">,</span> <span style=\"color:#fca082\">you</span> <span style=\"color:#fc9d7f\">can</span> <span style=\"color:#fcb296\">OOV</span> <span style=\"color:#fc9e80\">'</span> <span style=\"color:#fc9879\">by</span> <span style=\"color:#f34c37\">looking</span> <span style=\"color:#fc8464\">at</span> <span style=\"color:#f85d42\">David</span> <span style=\"color:#fc997a\">Lynch</span> <span style=\"color:#fc9070\">'s</span> <span style=\"color:#f96346\">'Top</span> <span style=\"color:#fc8161\">10</span> <span style=\"color:#fca082\">OOV</span> <span style=\"color:#fcae92\">to</span> <span style=\"color:#fcb99f\">OOV</span> <span style=\"color:#fc9e80\">MD</span> <span style=\"color:#fcaa8d\">'</span> <span style=\"color:#fc9d7f\">(</span> <span style=\"color:#fc9474\">but</span> <span style=\"color:#fc8060\">only</span> <span style=\"color:#e93529\">upon</span> <span style=\"color:#fc8060\">second</span>  13.19<br><span style=\"color:#fb7b5b\">;</span> <span style=\"color:#fc8565\">)</span> <span style=\"color:#d11e1f\">First</span> <span style=\"color:#fcab8f\">of</span> <span style=\"color:#fc9474\">all</span> <span style=\"color:#fca689\">,</span> <span style=\"color:#fc8464\">Mulholland</span> <span style=\"color:#fc9272\">Drive</span> <span style=\"color:#fc9b7c\">is</span> <span style=\"color:#67000d\">downright</span> <span style=\"color:#bb141a\">brilliant</span> <span style=\"color:#fb694a\">.</span>  16.66<br><span style=\"color:#e93529\">A</span> <span style=\"color:#c8171c\">masterpiece</span> <span style=\"color:#f85f43\">.</span>  22.72<br><span style=\"color:#fb694a\">This</span> <span style=\"color:#f6563d\">is</span> <span style=\"color:#67000d\">the</span> <span style=\"color:#67000d\">kind</span> <span style=\"color:#f34935\">of</span> <span style=\"color:#fc9d7f\">movie</span> <span style=\"color:#fcb499\">that</span> <span style=\"color:#fcc4ad\">refuse</span> <span style=\"color:#fcbea5\">to</span> <span style=\"color:#fcb69b\">leave</span> <span style=\"color:#fca78b\">your</span> <span style=\"color:#fc8d6d\">head</span> <span style=\"color:#fca78b\">.</span>  16.29<br>"
      ],
      "text/plain": [
       "<IPython.core.display.HTML object>"
      ]
     },
     "metadata": {},
     "output_type": "display_data"
    }
   ],
   "source": [
    "#Functions to colorize attention coefficients\n",
    "import matplotlib.pyplot as plt\n",
    "from matplotlib import colors as mcolors\n",
    "from matplotlib import cm\n",
    "from IPython.core.display import display, HTML\n",
    "\n",
    "def colorize_word(word, coef, cmap_name='Reds'):\n",
    "    cmap = cm.get_cmap(cmap_name)\n",
    "    norm = mcolors.Normalize(vmin=-0.01, vmax=0.1)\n",
    "    color = cmap(norm(coef))  \n",
    "    color = mcolors.to_hex(color)  \n",
    "    return f'<span style=\"color:{color}\">{word}</span>'\n",
    "\n",
    "# Affichage des phrases avec les couleurs\n",
    "def display_colored_text(text_word_coeffs, sent_coeffs):\n",
    "    html_text = ''\n",
    "    for sentence, coef in zip(text_word_coeffs, sent_coeffs[:,0].tolist()):\n",
    "        html_sentence = ' '.join([colorize_word(word, coef) for word, coef in sentence])\n",
    "        html_sentence += '  '+format(100*coef, '.2f') #Add sentence coefs\n",
    "        html_text += html_sentence + '<br>'  \n",
    "    return html_text\n",
    "\n",
    "\n",
    "html_output = display_colored_text(text_word_coeffs, sent_coeffs)\n",
    "display(HTML(html_output))\n"
   ]
  },
  {
   "cell_type": "code",
   "execution_count": 167,
   "metadata": {},
   "outputs": [
    {
     "name": "stderr",
     "output_type": "stream",
     "text": [
      "/tmp/ipykernel_50959/1092512578.py:7: MatplotlibDeprecationWarning: The get_cmap function was deprecated in Matplotlib 3.7 and will be removed in 3.11. Use ``matplotlib.colormaps[name]`` or ``matplotlib.colormaps.get_cmap()`` or ``pyplot.get_cmap()`` instead.\n",
      "  cmap = cm.get_cmap(cmap_name)\n"
     ]
    },
    {
     "data": {
      "text/html": [
       "<span style=\"color:#fc8d6d\">I</span> <span style=\"color:#d52221\">realize</span> <span style=\"color:#f14331\">why</span> <span style=\"color:#d92523\">people</span> <span style=\"color:#fc7f5f\">hate</span> <span style=\"color:#fa6547\">this</span> <span style=\"color:#f14331\">film</span> <span style=\"color:#f85f43\">.</span>  5.10<br><span style=\"color:#fca285\">And</span> <span style=\"color:#fc8565\">,</span> <span style=\"color:#fc8f6f\">I</span> <span style=\"color:#b21218\">hated</span> <span style=\"color:#e32f27\">Blair</span> <span style=\"color:#fa6849\">Witch</span> <span style=\"color:#d01d1f\">Project</span> <span style=\"color:#fb7c5c\">,</span> <span style=\"color:#fc8b6b\">so</span> <span style=\"color:#f44f39\">go</span> <span style=\"color:#fc8e6e\">figure</span> <span style=\"color:#fb7555\">?</span>  8.38<br><span style=\"color:#fc9576\">This</span> <span style=\"color:#fc8d6d\">is</span> <span style=\"color:#e02c26\">about</span> <span style=\"color:#ef3c2c\">as</span> <span style=\"color:#67000d\">staged</span> <span style=\"color:#fc8b6b\">as</span> <span style=\"color:#fca689\">it</span> <span style=\"color:#fcae92\">gets</span> <span style=\"color:#fca082\">&</span> <span style=\"color:#fc9474\">yes</span> <span style=\"color:#fca78b\">they</span> <span style=\"color:#fca486\">do</span> <span style=\"color:#67000d\">insult</span> <span style=\"color:#fca285\">your</span> <span style=\"color:#fcb095\">intelligence</span> <span style=\"color:#fc997a\">by</span> <span style=\"color:#c3161b\">trying</span> <span style=\"color:#fcb69b\">to</span> <span style=\"color:#fcc1a8\">make</span> <span style=\"color:#fdccb8\">it</span> <span style=\"color:#fcb69b\">seem</span> <span style=\"color:#fdc6b0\">OOV</span> <span style=\"color:#fcbea5\">really</span> <span style=\"color:#fcb398\">liked</span> <span style=\"color:#fcc3ab\">the</span> <span style=\"color:#fcc3ab\">OOV</span> <span style=\"color:#fcbfa7\">OOV</span> <span style=\"color:#fca486\">storyline</span> <span style=\"color:#fcb296\">though</span> <span style=\"color:#fcb69b\">it</span>  18.89<br><span style=\"color:#fcad90\">But</span> <span style=\"color:#fcad90\">,</span> <span style=\"color:#fdc5ae\">the</span> <span style=\"color:#fca689\">main</span> <span style=\"color:#d21f20\">reason</span> <span style=\"color:#fcbba1\">I</span> <span style=\"color:#fcb398\">like</span> <span style=\"color:#fc9272\">this</span> <span style=\"color:#fa6648\">film</span> <span style=\"color:#da2723\">,</span> <span style=\"color:#fc8969\">is</span> <span style=\"color:#67000d\">fake</span> <span style=\"color:#f4503a\">or</span> <span style=\"color:#fc8a6a\">not</span> <span style=\"color:#fcae92\">when</span> <span style=\"color:#fcb499\">the</span> <span style=\"color:#fc8464\">ghosts</span> <span style=\"color:#fc8565\">start</span> <span style=\"color:#fca285\">attacking</span> <span style=\"color:#fcb69b\">&</span> <span style=\"color:#fc9d7f\">kidnapping</span> <span style=\"color:#fcbfa7\">them</span> <span style=\"color:#fdcbb6\">,</span> <span style=\"color:#fdccb8\">I</span> <span style=\"color:#fdcab5\">get</span> <span style=\"color:#fcc4ad\">OOV</span> <span style=\"color:#fcae92\">every</span> <span style=\"color:#fcb499\">time</span> <span style=\"color:#fcc1a8\">&</span> <span style=\"color:#fcbfa7\">have</span>  29.40<br><span style=\"color:#fca082\">And</span> <span style=\"color:#fc8d6d\">,</span> <span style=\"color:#fca588\">the</span> <span style=\"color:#b61319\">females</span> <span style=\"color:#fc9272\">are</span> <span style=\"color:#d72322\">very</span> <span style=\"color:#67000d\">annoying</span> <span style=\"color:#fc9c7d\">!</span> <span style=\"color:#fc8f6f\">You</span> <span style=\"color:#fcab8f\">'ll</span> <span style=\"color:#fcaa8d\">wish</span> <span style=\"color:#fcae92\">the</span> <span style=\"color:#fc9b7c\">ghosts</span> <span style=\"color:#fca689\">would</span> <span style=\"color:#fcb89e\">take</span> <span style=\"color:#fcbca2\">them</span> <span style=\"color:#fdc6b0\">off</span> <span style=\"color:#fcc2aa\">&</span> <span style=\"color:#fca486\">experiment</span> <span style=\"color:#fcc1a8\">on</span> <span style=\"color:#fcbca2\">them</span> <span style=\"color:#fcb499\">before</span> <span style=\"color:#fdcbb6\">it</span> <span style=\"color:#fdc5ae\">'s</span> <span style=\"color:#fcb69b\">all</span> <span style=\"color:#fcb89e\">said</span> <span style=\"color:#fcaf93\">&</span> <span style=\"color:#fc8a6a\">done</span> <span style=\"color:#fca78b\">.</span>  24.61<br><span style=\"color:#67000d\">**</span> <span style=\"color:#f75c41\">out</span> <span style=\"color:#fb7151\">of</span> <span style=\"color:#f03d2d\">*****</span> <span style=\"color:#fb7757\">.</span>  7.22<br>  6.40<br>"
      ],
      "text/plain": [
       "<IPython.core.display.HTML object>"
      ]
     },
     "metadata": {},
     "output_type": "display_data"
    },
    {
     "name": "stdout",
     "output_type": "stream",
     "text": [
      "Predicted score :  0.010090686960594038\n"
     ]
    }
   ],
   "source": [
    "# Negative review\n",
    "my_review_neg = my_docs_array_test[5000:5001,:,:]\n",
    "my_review_tensor_neg = torch.tensor(my_review_neg).to(device)\n",
    "\n",
    "my_review_text_neg = [[index_to_word[idx] for idx in sent if idx in index_to_word] for sent in my_review_neg.tolist()[0]]\n",
    "\n",
    "\n",
    "\n",
    "predicted_score, word_coeffs_neg, sent_coeffs_neg = model.forward(my_review_tensor_neg) # fill the gap # get sentence attention coeffs by passing the review to the model - (you need to convert the inout torch tensor)\n",
    "sent_coeffs_neg = sent_coeffs_neg[0,:,:]\n",
    "\n",
    "word_coeffs_neg_list = word_coeffs_neg.reshape(7,30).tolist()\n",
    "text_word_coeffs_neg = [list(zip(words,word_coeffs_neg_list[idx][:len(words)])) for idx,words in enumerate(my_review_text_neg)]\n",
    "\n",
    "\n",
    "html_output = display_colored_text(text_word_coeffs_neg, sent_coeffs_neg)\n",
    "display(HTML(html_output))\n",
    "print(\"Predicted score : \", predicted_score.item())"
   ]
  },
  {
   "cell_type": "code",
   "execution_count": 182,
   "metadata": {},
   "outputs": [
    {
     "name": "stderr",
     "output_type": "stream",
     "text": [
      "/tmp/ipykernel_50959/1092512578.py:7: MatplotlibDeprecationWarning: The get_cmap function was deprecated in Matplotlib 3.7 and will be removed in 3.11. Use ``matplotlib.colormaps[name]`` or ``matplotlib.colormaps.get_cmap()`` or ``pyplot.get_cmap()`` instead.\n",
      "  cmap = cm.get_cmap(cmap_name)\n"
     ]
    },
    {
     "data": {
      "text/html": [
       "<span style=\"color:#fc9879\">It</span> <span style=\"color:#fc8565\">'s</span> <span style=\"color:#ce1a1e\">exactly</span> <span style=\"color:#f5523a\">what</span> <span style=\"color:#fc8666\">I</span> <span style=\"color:#fb7a5a\">expected</span> <span style=\"color:#fb7757\">from</span> <span style=\"color:#fc997a\">it</span> <span style=\"color:#fc9070\">.</span>  21.21<br><span style=\"color:#fca082\">OOV</span> <span style=\"color:#fc8b6b\">,</span> <span style=\"color:#f14331\">humorous</span> <span style=\"color:#b71319\">and</span> <span style=\"color:#67000d\">entertaining</span> <span style=\"color:#fb7353\">.</span>  24.79<br><span style=\"color:#fb6c4c\">The</span> <span style=\"color:#fc8666\">acting</span> <span style=\"color:#d82422\">couple</span> <span style=\"color:#f14130\">was</span> <span style=\"color:#67000d\">awesome</span> <span style=\"color:#fa6547\">,</span> <span style=\"color:#fc9474\">as</span> <span style=\"color:#fb7353\">well</span> <span style=\"color:#fb7c5c\">as</span> <span style=\"color:#fca588\">the</span> <span style=\"color:#fc9070\">scene</span> <span style=\"color:#fb7757\">selection</span> <span style=\"color:#fc9272\">.</span>  24.66<br><span style=\"color:#fc8b6b\">I</span> <span style=\"color:#67000d\">personally</span> <span style=\"color:#7a0510\">recommend</span> <span style=\"color:#67000d\">this</span> <span style=\"color:#f14130\">.</span>  10.79<br><span style=\"color:#fca285\">It</span> <span style=\"color:#fc8e6e\">'s</span> <span style=\"color:#f03f2e\">kind</span> <span style=\"color:#fc8f6f\">of</span> <span style=\"color:#fc8e6e\">the</span> <span style=\"color:#fca082\">movie</span> <span style=\"color:#fcb79c\">that</span> <span style=\"color:#fc9777\">can</span> <span style=\"color:#fcb79c\">be</span> <span style=\"color:#fcc2aa\">seen</span> <span style=\"color:#fcb89e\">by</span> <span style=\"color:#fca285\">whole</span> <span style=\"color:#fca98c\">family</span> <span style=\"color:#fcb69b\">at</span> <span style=\"color:#fcb095\">the</span> <span style=\"color:#fb7555\">same</span> <span style=\"color:#fc8060\">time</span> <span style=\"color:#fc8565\">without</span> <span style=\"color:#fb6c4c\">anyone</span> <span style=\"color:#fb6d4d\">feeling</span> <span style=\"color:#fc7f5f\">uncomfortable</span> <span style=\"color:#fca689\">or</span> <span style=\"color:#fb7656\">getting</span> <span style=\"color:#67000d\">bored</span> <span style=\"color:#fca486\">.</span>  4.97<br><span style=\"color:#fc8161\">This</span> <span style=\"color:#a10e15\">cute</span> <span style=\"color:#f85f43\">movie</span> <span style=\"color:#d92523\">will</span> <span style=\"color:#cf1c1f\">make</span> <span style=\"color:#fb7050\">you</span> <span style=\"color:#f03f2e\">smile</span> <span style=\"color:#fc8767\">,</span> <span style=\"color:#fc8969\">and</span> <span style=\"color:#fc9070\">laugh</span> <span style=\"color:#fb6d4d\">too</span> <span style=\"color:#fca98c\">.</span>  7.82<br><span style=\"color:#fc8a6a\">And</span> <span style=\"color:#fc8a6a\">the</span> <span style=\"color:#f0402f\">action</span> <span style=\"color:#fc8666\">scenes</span> <span style=\"color:#fb7d5d\">are</span> <span style=\"color:#f96346\">tasty</span> <span style=\"color:#fc9777\">.</span>  5.77<br>"
      ],
      "text/plain": [
       "<IPython.core.display.HTML object>"
      ]
     },
     "metadata": {},
     "output_type": "display_data"
    },
    {
     "name": "stdout",
     "output_type": "stream",
     "text": [
      "Predicted score :  0.9817413294369789\n"
     ]
    }
   ],
   "source": [
    "# Negative review\n",
    "my_review_pos = my_docs_array_test[10001:10002,:,:]\n",
    "my_review_tensor_pos = torch.tensor(my_review_pos).to(device)\n",
    "\n",
    "my_review_text_pos = [[index_to_word[idx] for idx in sent if idx in index_to_word] for sent in my_review_pos.tolist()[0]]\n",
    "\n",
    "\n",
    "\n",
    "predicted_score, word_coeffs_pos, sent_coeffs_pos = model.forward(my_review_tensor_pos) # fill the gap # get sentence attention coeffs by passing the review to the model - (you need to convert the inout torch tensor)\n",
    "sent_coeffs_pos = sent_coeffs_pos[0,:,:]\n",
    "\n",
    "word_coeffs_pos_list = word_coeffs_pos.reshape(7,30).tolist()\n",
    "text_word_coeffs_pos = [list(zip(words,word_coeffs_pos_list[idx][:len(words)])) for idx,words in enumerate(my_review_text_pos)]\n",
    "\n",
    "\n",
    "html_output = display_colored_text(text_word_coeffs_pos, sent_coeffs_pos)\n",
    "display(HTML(html_output))\n",
    "print(\"Predicted score : \", predicted_score.item())\n"
   ]
  }
 ],
 "metadata": {
  "accelerator": "GPU",
  "colab": {
   "provenance": []
  },
  "kernelspec": {
   "display_name": "Python test",
   "language": "python",
   "name": "test"
  },
  "language_info": {
   "codemirror_mode": {
    "name": "ipython",
    "version": 3
   },
   "file_extension": ".py",
   "mimetype": "text/x-python",
   "name": "python",
   "nbconvert_exporter": "python",
   "pygments_lexer": "ipython3",
   "version": "3.10.14"
  },
  "vscode": {
   "interpreter": {
    "hash": "b0fa6594d8f4cbf19f97940f81e996739fb7646882a419484c72d19e05852a7e"
   }
  }
 },
 "nbformat": 4,
 "nbformat_minor": 4
}
