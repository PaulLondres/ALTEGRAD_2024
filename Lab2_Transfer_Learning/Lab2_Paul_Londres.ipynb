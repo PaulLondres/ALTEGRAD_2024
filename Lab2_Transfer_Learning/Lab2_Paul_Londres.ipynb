{
 "cells": [
  {
   "cell_type": "markdown",
   "metadata": {
    "id": "DlAfI8mCWAf3"
   },
   "source": [
    "<center><h2>ALTeGraD 2024<br>Lab Session 2: Transfer learning for NLP</h2> 15 / 10 / 2024<br> Dr. G. Shang, Y. Zhang<br><br>\n",
    "\n",
    "\n",
    "<b>Student name:</b> Paul Londres\n",
    "\n",
    "</center>\n",
    "\n",
    "<br><br>\n",
    "In this lab we will:\n",
    "* Implement and pretrain a language model with transformer architecture.\n",
    "* Use the pretrained model (transfer learning) to perform a sentiment analysis task which consists of classifying some books reviews into positive and negative ones.\n",
    "* Compare the performance of the pretrained model to a model trained from scratch.\n",
    " <br>\n",
    "\n",
    "<b>The deadline for this lab is October 22, 2024 11:59 PM.</b> More details about the submission and the architecture for this lab can be found in the handout PDF."
   ]
  },
  {
   "cell_type": "code",
   "execution_count": 1,
   "metadata": {
    "executionInfo": {
     "elapsed": 7180,
     "status": "ok",
     "timestamp": 1729002833659,
     "user": {
      "displayName": "Paul",
      "userId": "04572641331136024364"
     },
     "user_tz": -120
    },
    "id": "IqukuIe0Rb_c"
   },
   "outputs": [],
   "source": [
    "import math\n",
    "\n",
    "import torch\n",
    "import torch.nn as nn\n",
    "from torch.nn.utils.rnn import pad_sequence\n",
    "\n",
    "device = torch.device(\"cuda\" if torch.cuda.is_available() else \"cpu\")"
   ]
  },
  {
   "cell_type": "markdown",
   "metadata": {
    "id": "5FF6fjkqgN39"
   },
   "source": [
    "### The Model"
   ]
  },
  {
   "cell_type": "code",
   "execution_count": 2,
   "metadata": {
    "executionInfo": {
     "elapsed": 259,
     "status": "ok",
     "timestamp": 1729003901037,
     "user": {
      "displayName": "Paul",
      "userId": "04572641331136024364"
     },
     "user_tz": -120
    },
    "id": "p0cj9WkSFQwl"
   },
   "outputs": [],
   "source": [
    "class TransformerModel(nn.Module):\n",
    "    def __init__(self, ntoken, nhead, nhid, nlayers, dropout=0.5):\n",
    "        super(TransformerModel, self).__init__()\n",
    "        '''\n",
    "        ntokens: the size of vocabulary\n",
    "        nhid: the hidden dimension of the model.\n",
    "        We assume that embedding_dim = nhid\n",
    "        nlayers: the number of nn.TransformerEncoderLayer in nn.TransformerEncoder\n",
    "        nhead: the number of heads in the multiheadattention models\n",
    "        dropout: the dropout value\n",
    "         '''\n",
    "        self.model_type = \"Transformer\"\n",
    "        self.encoder = nn.Embedding(num_embeddings=ntoken, embedding_dim=nhid) # fill me, nhid = the dim_embed\n",
    "        self.pos_encoder = PositionalEncoding(nhid=nhid, dropout=dropout) #fill me, the PositionalEncoding class is implemented in the next cell\n",
    "        encoder_layers = nn.TransformerEncoderLayer(d_model=nhid, nhead=nhead, dim_feedforward=nhid, dropout=dropout) #fill me we assume nhid = d_model = dim_feedforward\n",
    "        self.transformer_encoder = nn.TransformerEncoder(encoder_layer=encoder_layers, num_layers=nlayers) #fill me\n",
    "        self.nhid = nhid\n",
    "        self.init_weights()\n",
    "\n",
    "    def generate_square_subsequent_mask(self, sz):\n",
    "        mask = (torch.triu(torch.ones(sz, sz)) == 1).transpose(0, 1)\n",
    "        mask = (\n",
    "            mask.float()\n",
    "            .masked_fill(mask == 0, float(\"-inf\"))\n",
    "            .masked_fill(mask == 1, float(0.0))\n",
    "        )\n",
    "        return mask\n",
    "\n",
    "    def init_weights(self):\n",
    "        initrange = 0.1\n",
    "        self.encoder.weight.data.uniform_(-initrange, initrange)\n",
    "\n",
    "    def forward(self, src, src_mask):\n",
    "        src = self.encoder(src) * math.sqrt(self.nhid)\n",
    "        src = self.pos_encoder(src)\n",
    "        output = self.transformer_encoder(src=src, mask=src_mask)\n",
    "        return output\n",
    "\n",
    "\n",
    "class ClassificationHead(nn.Module):\n",
    "    def __init__(self, nhid, nclasses):\n",
    "        super(ClassificationHead, self).__init__()\n",
    "        self.decoder = nn.Linear(nhid, nclasses)\n",
    "        self.init_weights()\n",
    "\n",
    "    def init_weights(self):\n",
    "        initrange = 0.1\n",
    "        self.decoder.bias.data.zero_()\n",
    "        self.decoder.weight.data.uniform_(-initrange, initrange)\n",
    "\n",
    "    def forward(self, src):\n",
    "        output = self.decoder(src)\n",
    "        return output\n",
    "\n",
    "class Model(nn.Module):\n",
    "    def __init__(self, ntoken, nhead, nhid, nlayers, nclasses, dropout=0.5):\n",
    "        super(Model, self).__init__()\n",
    "        self.base = TransformerModel(ntoken=ntoken, nhead=nhead, nhid=nhid, nlayers=nlayers, dropout=dropout)#fill me\n",
    "        self.classifier = ClassificationHead(nhid=nhid, nclasses=nclasses)\n",
    "\n",
    "    def forward(self, src, src_mask):\n",
    "        # base model\n",
    "        x = self.base(src, src_mask)\n",
    "        # classifier model\n",
    "        output = self.classifier(x)#fill me\n",
    "        return output"
   ]
  },
  {
   "cell_type": "code",
   "execution_count": 3,
   "metadata": {
    "executionInfo": {
     "elapsed": 1,
     "status": "ok",
     "timestamp": 1729003857254,
     "user": {
      "displayName": "Paul",
      "userId": "04572641331136024364"
     },
     "user_tz": -120
    },
    "id": "kt2QQohaFZry"
   },
   "outputs": [],
   "source": [
    "class PositionalEncoding(nn.Module):\n",
    "    def __init__(self, nhid, dropout=0.1, max_len=5000):\n",
    "        super(PositionalEncoding, self).__init__()\n",
    "        self.dropout = nn.Dropout(p=dropout)\n",
    "\n",
    "        pe = torch.zeros(max_len, nhid)\n",
    "        position = torch.arange(0, max_len, dtype=torch.float).unsqueeze(1)\n",
    "        div_term = torch.exp(\n",
    "            torch.arange(0, nhid, 2).float() * (-math.log(10000.0) / nhid)\n",
    "        )\n",
    "        pe[:, 0::2] = torch.sin(position * div_term)\n",
    "        pe[:, 1::2] = torch.cos(position * div_term)\n",
    "        pe = pe.unsqueeze(0).transpose(0, 1)\n",
    "        self.register_buffer(\"pe\", pe)\n",
    "\n",
    "    def forward(self, x):\n",
    "        x = x + self.pe[: x.size(0), :]\n",
    "        return self.dropout(x)"
   ]
  },
  {
   "cell_type": "markdown",
   "metadata": {
    "id": "SfEYHJx2JW6l"
   },
   "source": [
    "Let's verify if our model works, by applying one inference step"
   ]
  },
  {
   "cell_type": "code",
   "execution_count": 4,
   "metadata": {
    "colab": {
     "base_uri": "https://localhost:8080/"
    },
    "executionInfo": {
     "elapsed": 521,
     "status": "ok",
     "timestamp": 1729003904761,
     "user": {
      "displayName": "Paul",
      "userId": "04572641331136024364"
     },
     "user_tz": -120
    },
    "id": "rhb2gkUhJMR0",
    "outputId": "bf3ea09a-19bc-490d-c959-13a21a64655f"
   },
   "outputs": [
    {
     "name": "stderr",
     "output_type": "stream",
     "text": [
      "/home/plondres/anaconda3/envs/test/lib/python3.10/site-packages/torch/nn/modules/transformer.py:307: UserWarning: enable_nested_tensor is True, but self.use_nested_tensor is False because encoder_layer.self_attn.batch_first was not True(use batch_first for better inference performance)\n",
      "  warnings.warn(f\"enable_nested_tensor is True, but self.use_nested_tensor is False because {why_not_sparsity_fast_path}\")\n"
     ]
    },
    {
     "name": "stdout",
     "output_type": "stream",
     "text": [
      "torch.Size([1, 6, 100])\n"
     ]
    }
   ],
   "source": [
    "ntokens = 100 # the size of vocabulary\n",
    "nhid = 200  # hidden dimension\n",
    "nlayers = 4  # the number of nn.TransformerEncoderLayer in nn.TransformerEncoder\n",
    "nhead = 2  # the number of heads in the multiheadattention models\n",
    "dropout = 0  # the dropout value\n",
    "\n",
    "model = Model(ntokens, nhead, nhid, nlayers, ntokens, dropout).to(device)\n",
    "dummy_input = torch.tensor([[2, 6, 2, 5, 43, 21]]).to(device)\n",
    "src_mask = model.base.generate_square_subsequent_mask(1).to(device)\n",
    "out = model.forward(dummy_input, src_mask)\n",
    "\n",
    "print(out.shape) # is it the right shape?"
   ]
  },
  {
   "cell_type": "markdown",
   "metadata": {
    "id": "i74NN897Fcit"
   },
   "source": [
    "## Vocabulary and Tokenization"
   ]
  },
  {
   "cell_type": "code",
   "execution_count": 5,
   "metadata": {
    "colab": {
     "base_uri": "https://localhost:8080/"
    },
    "executionInfo": {
     "elapsed": 529,
     "status": "ok",
     "timestamp": 1729004009919,
     "user": {
      "displayName": "Paul",
      "userId": "04572641331136024364"
     },
     "user_tz": -120
    },
    "id": "5qjd26ghWuff",
    "outputId": "32da9fa0-d23a-4468-fe64-ac1d9a769dbd"
   },
   "outputs": [
    {
     "name": "stdout",
     "output_type": "stream",
     "text": [
      "--2024-10-22 20:18:06--  https://raw.githubusercontent.com/moussaKam/transfer_learning_transformers/main/dict.txt\n",
      "Resolving raw.githubusercontent.com (raw.githubusercontent.com)... 2606:50c0:8003::154, 2606:50c0:8000::154, 2606:50c0:8002::154, ...\n",
      "Connecting to raw.githubusercontent.com (raw.githubusercontent.com)|2606:50c0:8003::154|:443... connected.\n",
      "HTTP request sent, awaiting response... 200 OK\n",
      "Length: 577587 (564K) [text/plain]\n",
      "Saving to: ‘dict.txt.7’\n",
      "\n",
      "dict.txt.7          100%[===================>] 564.05K  --.-KB/s    in 0.05s   \n",
      "\n",
      "2024-10-22 20:18:06 (11.6 MB/s) - ‘dict.txt.7’ saved [577587/577587]\n",
      "\n",
      "▁d 1\n",
      "es 1\n",
      "▁l 1\n",
      "en 1\n",
      "on 1\n"
     ]
    }
   ],
   "source": [
    "!wget https://raw.githubusercontent.com/moussaKam/transfer_learning_transformers/main/dict.txt\n",
    "!head -5 dict.txt"
   ]
  },
  {
   "cell_type": "code",
   "execution_count": 6,
   "metadata": {
    "colab": {
     "base_uri": "https://localhost:8080/"
    },
    "executionInfo": {
     "elapsed": 13375,
     "status": "ok",
     "timestamp": 1729004337987,
     "user": {
      "displayName": "Paul",
      "userId": "04572641331136024364"
     },
     "user_tz": -120
    },
    "id": "vFdH_-JeFbGA",
    "outputId": "3eb92fed-b10d-43a3-f8c4-64be4f019534"
   },
   "outputs": [
    {
     "name": "stdout",
     "output_type": "stream",
     "text": [
      "▁trop\n"
     ]
    }
   ],
   "source": [
    "path_vocab = \"dict.txt\"\n",
    "token2ind = {\"<sos>\": 0, \"<pad>\": 1, \"<eos>\": 2, \"<oov>\": 3} # the 4 first indices are reserved to special tokens\n",
    "with open(path_vocab, \"r\") as f:\n",
    "    for idx, line in enumerate(f):\n",
    "        word = line.split()[0].strip()\n",
    "        token2ind[word] = idx + 4 #Offset becasue of the special tokens\n",
    "\n",
    "ind2token = {value:key for key, value in token2ind.items()} #fill me\n",
    "\n",
    "print(ind2token[1111])"
   ]
  },
  {
   "cell_type": "markdown",
   "metadata": {
    "id": "XOExGODajN8p"
   },
   "source": [
    "### Data Loader\n"
   ]
  },
  {
   "cell_type": "code",
   "execution_count": 7,
   "metadata": {
    "executionInfo": {
     "elapsed": 242,
     "status": "ok",
     "timestamp": 1729007876710,
     "user": {
      "displayName": "Paul",
      "userId": "04572641331136024364"
     },
     "user_tz": -120
    },
    "id": "Y0jN-Ar9i5Q1"
   },
   "outputs": [],
   "source": [
    "import numpy\n",
    "import torch\n",
    "from torch.nn.utils.rnn import pad_sequence\n",
    "from torch.utils.data import DataLoader, Dataset\n",
    "\n",
    "\n",
    "class Dataset(Dataset):\n",
    "    def __init__(\n",
    "        self,\n",
    "        path_documents,\n",
    "        path_labels=None,\n",
    "        token2ind={},\n",
    "        max_len=512,\n",
    "        task=\"language_modeling\",\n",
    "    ):\n",
    "        self.task = task\n",
    "        self.max_len = max_len\n",
    "        self.token2ind = token2ind\n",
    "        self.documents = []\n",
    "        self.labels = []\n",
    "        with open(path_documents, \"r\") as f1:\n",
    "            for line in f1:\n",
    "                self.documents.append(line.strip())\n",
    "        if task == \"classification\":\n",
    "            with open(path_labels, \"r\") as f1:\n",
    "                for line in f1:\n",
    "                    self.labels.append(int(line.strip()))\n",
    "            assert len(self.labels) == len(self.documents)\n",
    "\n",
    "    def __len__(self):\n",
    "        return len(self.documents)\n",
    "\n",
    "    def __getitem__(self, index):\n",
    "        sequence = self.documents[index].split()\n",
    "        if len(sequence) > self.max_len - 1:\n",
    "            sequence = sequence[: self.max_len - 1]\n",
    "        source_sequence = [self.token2ind[i] if i in token2ind.keys() else token2ind[\"<oov>\"] for i in sequence]#fill me (constract the input sequence using token2ind, sequence and special tokens)\n",
    "        source_sequence.insert(0, token2ind[\"<sos>\"])\n",
    "        if self.task == \"language_modeling\":\n",
    "            target = source_sequence[1:]\n",
    "            target.append(self.token2ind[\"<eos>\"])\n",
    "        elif self.task == \"classification\":\n",
    "            target = [self.labels[index]]\n",
    "        sample = {\n",
    "            \"source_sequence\": torch.tensor(source_sequence),\n",
    "            \"target\": torch.tensor(target),\n",
    "        }\n",
    "        return sample\n",
    "\n",
    "\n",
    "def MyCollator(batch):\n",
    "    source_sequences = pad_sequence(\n",
    "        #we use padding to match the length of the sequences in the same batch\n",
    "        [sample[\"source_sequence\"] for sample in batch], padding_value=token2ind[\"<pad>\"]\n",
    "    )\n",
    "    target = pad_sequence(\n",
    "        [sample[\"target\"] for sample in batch], padding_value=token2ind[\"<pad>\"]\n",
    "    )\n",
    "    return source_sequences, target.reshape(-1)\n",
    "\n",
    "\n",
    "def get_loader(\n",
    "    path_documents,\n",
    "    path_labels=None,\n",
    "    token2ind={},\n",
    "    max_len=512,\n",
    "    batch_size=32,\n",
    "    task=\"language_modeling\",\n",
    "):\n",
    "    dataset = Dataset(\n",
    "        path_documents,\n",
    "        path_labels=path_labels,\n",
    "        token2ind=token2ind,\n",
    "        max_len=512,\n",
    "        task=task,\n",
    "    )\n",
    "    data_loader = DataLoader(\n",
    "        dataset=dataset,\n",
    "        batch_size=batch_size,\n",
    "        shuffle=True,\n",
    "        collate_fn=MyCollator,\n",
    "        pin_memory=True,\n",
    "        drop_last=True,\n",
    "    )\n",
    "    return data_loader"
   ]
  },
  {
   "cell_type": "markdown",
   "metadata": {
    "id": "uTns4lHrjUTa"
   },
   "source": [
    "## The Training"
   ]
  },
  {
   "cell_type": "code",
   "execution_count": 8,
   "metadata": {
    "executionInfo": {
     "elapsed": 253,
     "status": "ok",
     "timestamp": 1729007979964,
     "user": {
      "displayName": "Paul",
      "userId": "04572641331136024364"
     },
     "user_tz": -120
    },
    "id": "4_jwosiLjRsS"
   },
   "outputs": [],
   "source": [
    "def train(\n",
    "    path_data_train,\n",
    "    path_labels_train=None,\n",
    "    path_data_valid=None,\n",
    "    save_interval=-1,\n",
    "    log_interval=5,\n",
    "    task=\"language_modeling\",\n",
    "    batch_size=32,\n",
    "):\n",
    "    model.train()\n",
    "    total_loss = 0.0\n",
    "    ntokens = len(token2ind)\n",
    "    data_loader = get_loader(\n",
    "        path_data_train,\n",
    "        path_labels_train,\n",
    "        token2ind,\n",
    "        task=task,\n",
    "        batch_size=batch_size,\n",
    "    )\n",
    "\n",
    "    losses = []\n",
    "    for idx, data in enumerate(data_loader): #step 1\n",
    "        optimizer.zero_grad()\n",
    "        src_mask = model.base.generate_square_subsequent_mask(data[0].size(0)).to(\n",
    "            device\n",
    "        )\n",
    "        input = data[0].to(device)\n",
    "        output = model(input, src_mask) #step 2\n",
    "        if task == 'classification':\n",
    "            #last vector only\n",
    "            output = output[-1, :]\n",
    "        output = output.view(-1, output.shape[-1])\n",
    "        target =  data[1]#fill me\n",
    "        target = target.to(device)\n",
    "        loss =  criterion(output, target)#fill me, Cross entropy check next cells\n",
    "        #fill me step 3\n",
    "        loss.backward()\n",
    "        torch.nn.utils.clip_grad_norm_(model.parameters(), 0.5) # prevent exploding gradient\n",
    "        #fill me step 4\n",
    "        optimizer.step()\n",
    "        total_loss += loss.item()\n",
    "        if idx % log_interval == 0 and idx > 0:\n",
    "            cur_loss = total_loss / log_interval\n",
    "            print(\n",
    "                \"| epoch {:3d} | {:5d}/{:5d} steps | \"\n",
    "                \"loss {:5.5f} | ppl {:8.3f}\".format(\n",
    "                    epoch, idx, len(data_loader), cur_loss, math.exp(cur_loss),\n",
    "                )\n",
    "            )\n",
    "            losses.append(cur_loss)\n",
    "            total_loss = 0\n",
    "        #print('train output', output.shape, target.shape)\n",
    "    return losses"
   ]
  },
  {
   "cell_type": "code",
   "execution_count": 9,
   "metadata": {
    "colab": {
     "base_uri": "https://localhost:8080/"
    },
    "executionInfo": {
     "elapsed": 661,
     "status": "ok",
     "timestamp": 1729007985405,
     "user": {
      "displayName": "Paul",
      "userId": "04572641331136024364"
     },
     "user_tz": -120
    },
    "id": "pgf6BDB9jUr6",
    "outputId": "07485b2d-c0ea-4184-87cb-c653b3059969"
   },
   "outputs": [],
   "source": [
    "ntokens = len(token2ind) #fill me # the size of vocabulary\n",
    "nhid = 200  # the dimension of the feedforward network model in nn.TransformerEncoder\n",
    "nlayers = 4  # the number of nn.TransformerEncoderLayer in nn.TransformerEncoder\n",
    "nhead = 2  # the number of heads in the multiheadattention models\n",
    "dropout = 0  # the dropout value\n",
    "\n",
    "nclasses = 2 # for classification task only\n",
    "\n",
    "model = Model(ntokens, nhead, nhid, nlayers, ntokens, dropout).to(device)"
   ]
  },
  {
   "cell_type": "code",
   "execution_count": 10,
   "metadata": {
    "executionInfo": {
     "elapsed": 257,
     "status": "ok",
     "timestamp": 1729007986397,
     "user": {
      "displayName": "Paul",
      "userId": "04572641331136024364"
     },
     "user_tz": -120
    },
    "id": "u-OLy4KIkDwf"
   },
   "outputs": [],
   "source": [
    "# optimization paramerters\n",
    "\n",
    "criterion = nn.CrossEntropyLoss(ignore_index=token2ind['<pad>'])\n",
    "lr = 0.0003  # learning rate\n",
    "optimizer = torch.optim.Adam(model.parameters(), lr=lr)"
   ]
  },
  {
   "cell_type": "code",
   "execution_count": 11,
   "metadata": {
    "colab": {
     "base_uri": "https://localhost:8080/"
    },
    "executionInfo": {
     "elapsed": 231,
     "status": "ok",
     "timestamp": 1729007294114,
     "user": {
      "displayName": "Paul",
      "userId": "04572641331136024364"
     },
     "user_tz": -120
    },
    "id": "Bwh3n9xZQy4e",
    "outputId": "66dd9181-3a4c-42d4-db19-d6c6a4a2ac56"
   },
   "outputs": [
    {
     "name": "stdout",
     "output_type": "stream",
     "text": [
      "--2024-10-22 20:18:44--  https://raw.githubusercontent.com/moussaKam/transfer_learning_transformers/main/pretraining_subset.txt\n",
      "Resolving raw.githubusercontent.com (raw.githubusercontent.com)... 2606:50c0:8001::154, 2606:50c0:8003::154, 2606:50c0:8000::154, ...\n",
      "Connecting to raw.githubusercontent.com (raw.githubusercontent.com)|2606:50c0:8001::154|:443... connected.\n",
      "HTTP request sent, awaiting response... 200 OK\n",
      "Length: 10146460 (9.7M) [text/plain]\n",
      "Saving to: ‘pretraining_subset.txt.7’\n",
      "\n",
      "pretraining_subset. 100%[===================>]   9.68M  27.2MB/s    in 0.4s    \n",
      "\n",
      "2024-10-22 20:18:44 (27.2 MB/s) - ‘pretraining_subset.txt.7’ saved [10146460/10146460]\n",
      "\n"
     ]
    }
   ],
   "source": [
    "!wget https://raw.githubusercontent.com/moussaKam/transfer_learning_transformers/main/pretraining_subset.txt\n",
    "path_data_train = \"pretraining_subset.txt\""
   ]
  },
  {
   "cell_type": "code",
   "execution_count": 12,
   "metadata": {
    "colab": {
     "base_uri": "https://localhost:8080/",
     "height": 385
    },
    "executionInfo": {
     "elapsed": 293,
     "status": "error",
     "timestamp": 1729007988849,
     "user": {
      "displayName": "Paul",
      "userId": "04572641331136024364"
     },
     "user_tz": -120
    },
    "id": "0m11g4ScjZaR",
    "outputId": "32bd2afc-0725-4b8e-dee5-ad5324e906b6"
   },
   "outputs": [
    {
     "name": "stdout",
     "output_type": "stream",
     "text": [
      "| epoch   1 |   500/ 3125 steps | loss 7.31528 | ppl 1503.098\n",
      "| epoch   1 |  1000/ 3125 steps | loss 6.48467 | ppl  655.022\n",
      "| epoch   1 |  1500/ 3125 steps | loss 6.20143 | ppl  493.454\n",
      "| epoch   1 |  2000/ 3125 steps | loss 6.03369 | ppl  417.254\n",
      "| epoch   1 |  2500/ 3125 steps | loss 5.92217 | ppl  373.220\n",
      "| epoch   1 |  3000/ 3125 steps | loss 5.83853 | ppl  343.276\n",
      "| epoch   2 |   500/ 3125 steps | loss 5.50942 | ppl  247.007\n",
      "| epoch   2 |  1000/ 3125 steps | loss 5.49070 | ppl  242.427\n",
      "| epoch   2 |  1500/ 3125 steps | loss 5.44509 | ppl  231.618\n",
      "| epoch   2 |  2000/ 3125 steps | loss 5.41304 | ppl  224.312\n",
      "| epoch   2 |  2500/ 3125 steps | loss 5.38334 | ppl  217.748\n",
      "| epoch   2 |  3000/ 3125 steps | loss 5.35965 | ppl  212.650\n"
     ]
    }
   ],
   "source": [
    "#pretraining on a tiny subset\n",
    "log_interval = 500\n",
    "epochs = 2\n",
    "for epoch in range(1, epochs + 1): #5\n",
    "    train(\n",
    "        path_data_train,\n",
    "        save_interval=-1,\n",
    "        task=\"language_modeling\", # fill me\n",
    "        batch_size=16,\n",
    "        log_interval=log_interval,\n",
    "    )"
   ]
  },
  {
   "cell_type": "code",
   "execution_count": 14,
   "metadata": {},
   "outputs": [
    {
     "name": "stdout",
     "output_type": "stream",
     "text": [
      "[10000200, 120000, 600, 40000, 200, 40000, 200, 40000, 200, 200, 200, 200, 200, 120000, 600, 40000, 200, 40000, 200, 40000, 200, 200, 200, 200, 200, 120000, 600, 40000, 200, 40000, 200, 40000, 200, 200, 200, 200, 200, 120000, 600, 40000, 200, 40000, 200, 40000, 200, 200, 200, 200, 200, 10000200, 50001]\n"
     ]
    }
   ],
   "source": [
    "# Parameters decomposition\n",
    "print([p.numel() for p in model.parameters()])"
   ]
  },
  {
   "cell_type": "code",
   "execution_count": 16,
   "metadata": {},
   "outputs": [
    {
     "name": "stdout",
     "output_type": "stream",
     "text": [
      "21018401\n"
     ]
    }
   ],
   "source": [
    "# Number of parameters\n",
    "print(sum([p.numel() for p in model.parameters()]))"
   ]
  },
  {
   "cell_type": "code",
   "execution_count": 15,
   "metadata": {},
   "outputs": [
    {
     "name": "stdout",
     "output_type": "stream",
     "text": [
      "Model(\n",
      "  (base): TransformerModel(\n",
      "    (encoder): Embedding(50001, 200)\n",
      "    (pos_encoder): PositionalEncoding(\n",
      "      (dropout): Dropout(p=0, inplace=False)\n",
      "    )\n",
      "    (transformer_encoder): TransformerEncoder(\n",
      "      (layers): ModuleList(\n",
      "        (0-3): 4 x TransformerEncoderLayer(\n",
      "          (self_attn): MultiheadAttention(\n",
      "            (out_proj): NonDynamicallyQuantizableLinear(in_features=200, out_features=200, bias=True)\n",
      "          )\n",
      "          (linear1): Linear(in_features=200, out_features=200, bias=True)\n",
      "          (dropout): Dropout(p=0, inplace=False)\n",
      "          (linear2): Linear(in_features=200, out_features=200, bias=True)\n",
      "          (norm1): LayerNorm((200,), eps=1e-05, elementwise_affine=True)\n",
      "          (norm2): LayerNorm((200,), eps=1e-05, elementwise_affine=True)\n",
      "          (dropout1): Dropout(p=0, inplace=False)\n",
      "          (dropout2): Dropout(p=0, inplace=False)\n",
      "        )\n",
      "      )\n",
      "    )\n",
      "  )\n",
      "  (classifier): ClassificationHead(\n",
      "    (decoder): Linear(in_features=200, out_features=50001, bias=True)\n",
      "  )\n",
      ")\n"
     ]
    }
   ],
   "source": [
    "print(model)"
   ]
  },
  {
   "cell_type": "markdown",
   "metadata": {
    "id": "MeOM1dOvkO4e"
   },
   "source": [
    "## Text Generation\n"
   ]
  },
  {
   "cell_type": "code",
   "execution_count": 17,
   "metadata": {
    "id": "-BcBC6FSkMH3"
   },
   "outputs": [
    {
     "name": "stdout",
     "output_type": "stream",
     "text": [
      "--2024-10-22 20:22:16--  https://raw.githubusercontent.com/moussaKam/transfer_learning_transformers/main/pretrained_model_4layers.pt\n",
      "Resolving raw.githubusercontent.com (raw.githubusercontent.com)... 2606:50c0:8002::154, 2606:50c0:8000::154, 2606:50c0:8001::154, ...\n",
      "Connecting to raw.githubusercontent.com (raw.githubusercontent.com)|2606:50c0:8002::154|:443... connected.\n",
      "HTTP request sent, awaiting response... 200 OK\n",
      "Length: 88093955 (84M) [application/octet-stream]\n",
      "Saving to: ‘pretrained_model_4layers.pt.11’\n",
      "\n",
      "pretrained_model_4l 100%[===================>]  84.01M  19.8MB/s    in 4.2s    \n",
      "\n",
      "2024-10-22 20:22:21 (19.8 MB/s) - ‘pretrained_model_4layers.pt.11’ saved [88093955/88093955]\n",
      "\n"
     ]
    },
    {
     "name": "stderr",
     "output_type": "stream",
     "text": [
      "/home/plondres/anaconda3/envs/test/lib/python3.10/site-packages/torch/nn/modules/transformer.py:307: UserWarning: enable_nested_tensor is True, but self.use_nested_tensor is False because encoder_layer.self_attn.batch_first was not True(use batch_first for better inference performance)\n",
      "  warnings.warn(f\"enable_nested_tensor is True, but self.use_nested_tensor is False because {why_not_sparsity_fast_path}\")\n",
      "/tmp/ipykernel_6147/961471251.py:6: FutureWarning: You are using `torch.load` with `weights_only=False` (the current default value), which uses the default pickle module implicitly. It is possible to construct malicious pickle data which will execute arbitrary code during unpickling (See https://github.com/pytorch/pytorch/blob/main/SECURITY.md#untrusted-models for more details). In a future release, the default value for `weights_only` will be flipped to `True`. This limits the functions that could be executed during unpickling. Arbitrary objects will no longer be allowed to be loaded via this mode unless they are explicitly allowlisted by the user via `torch.serialization.add_safe_globals`. We recommend you start setting `weights_only=True` for any use case where you don't have full control of the loaded file. Please open an issue on GitHub for any issues related to this experimental feature.\n",
      "  checkpoint = torch.load('pretrained_model_4layers.pt')\n"
     ]
    },
    {
     "data": {
      "text/plain": [
       "<All keys matched successfully>"
      ]
     },
     "execution_count": 17,
     "metadata": {},
     "output_type": "execute_result"
    }
   ],
   "source": [
    "!wget https://raw.githubusercontent.com/moussaKam/transfer_learning_transformers/main/pretrained_model_4layers.pt\n",
    "\n",
    "model = Model(ntokens, nhead, nhid, nlayers, ntokens).to(device)\n",
    "\n",
    "#load the checkpoint\n",
    "checkpoint = torch.load('pretrained_model_4layers.pt')\n",
    "#load state dict\n",
    "model.load_state_dict(checkpoint['model_state_dict'])"
   ]
  },
  {
   "cell_type": "code",
   "execution_count": 18,
   "metadata": {
    "id": "tBRRVsWqlIoQ"
   },
   "outputs": [
    {
     "name": "stdout",
     "output_type": "stream",
     "text": [
      "--2024-10-22 20:22:21--  https://raw.githubusercontent.com/moussaKam/transfer_learning_transformers/main/sentencepiece.french.model\n",
      "Resolving raw.githubusercontent.com (raw.githubusercontent.com)... 2606:50c0:8000::154, 2606:50c0:8003::154, 2606:50c0:8002::154, ...\n",
      "Connecting to raw.githubusercontent.com (raw.githubusercontent.com)|2606:50c0:8000::154|:443... connected.\n",
      "HTTP request sent, awaiting response... 200 OK\n",
      "Length: 1115362 (1.1M) [application/octet-stream]\n",
      "Saving to: ‘sentencepiece.french.model.6’\n",
      "\n",
      "sentencepiece.frenc 100%[===================>]   1.06M  --.-KB/s    in 0.05s   \n",
      "\n",
      "2024-10-22 20:22:21 (23.2 MB/s) - ‘sentencepiece.french.model.6’ saved [1115362/1115362]\n",
      "\n",
      "['▁Bonjour', '▁les', '▁amis', '!']\n",
      "Bonjour les amis!\n"
     ]
    }
   ],
   "source": [
    "# !pip install sentencepiece   # uncomment this if you are using google colab\n",
    "!wget https://raw.githubusercontent.com/moussaKam/transfer_learning_transformers/main/sentencepiece.french.model\n",
    "\n",
    "import sentencepiece as spm\n",
    "\n",
    "s = spm.SentencePieceProcessor(model_file='sentencepiece.french.model') #load sentencepiece model\n",
    "\n",
    "#examples\n",
    "encoded = s.encode_as_pieces(\"Bonjour les amis!\")\n",
    "decoded = s.decode_pieces(encoded)\n",
    "print(encoded)\n",
    "print(decoded)"
   ]
  },
  {
   "cell_type": "code",
   "execution_count": 19,
   "metadata": {
    "id": "TtLlV05pkQI3"
   },
   "outputs": [],
   "source": [
    "def infer_next_token(sent):\n",
    "    model.eval()\n",
    "    sent_pieces = s.encode_as_pieces(sent)\n",
    "    source = [token2ind['<sos>']] + [token2ind[el] for el in sent_pieces]# list of tokens\n",
    "    source = torch.tensor(source).to(device)\n",
    "    source = source.reshape(-1, 1)\n",
    "    src_mask = model.base.generate_square_subsequent_mask(source.size(0)).to(device)\n",
    "    out = model(source, src_mask)\n",
    "    next_token_ind = torch.argmax(out[-1, 0]).item() #We take the index of the argmax of the mast prediction\n",
    "    return next_token_ind, out\n",
    "\n",
    "def infer_next_tokens(sent, max_len=50):\n",
    "    generated_tokens = []\n",
    "    for _ in range(max_len):\n",
    "        #print(sent)\n",
    "        next_token_ind, _ = infer_next_token(sent)\n",
    "        generated_tokens.append(next_token_ind)\n",
    "        if ind2token[next_token_ind] == '<eos>':  \n",
    "            break\n",
    "        sent += \" \" + ind2token[next_token_ind]\n",
    "    generated_sentence = [ind2token[token] for token in generated_tokens]\n",
    "    generated_sentence_decoded = s.decode_pieces(generated_sentence)\n",
    "    return generated_sentence_decoded.replace('<eos>', '')"
   ]
  },
  {
   "cell_type": "code",
   "execution_count": 20,
   "metadata": {
    "id": "f83Nn5nSly4v"
   },
   "outputs": [
    {
     "data": {
      "text/plain": [
       "'gens qui ont été très accueillants et sympathiques.'"
      ]
     },
     "execution_count": 20,
     "metadata": {},
     "output_type": "execute_result"
    }
   ],
   "source": [
    "sent = \"Bonjour les\"\n",
    "infer_next_tokens(sent)"
   ]
  },
  {
   "cell_type": "markdown",
   "metadata": {
    "id": "Lp7mjVzomoZ3"
   },
   "source": [
    "### Supervised task"
   ]
  },
  {
   "cell_type": "code",
   "execution_count": 21,
   "metadata": {
    "id": "0K1BZsblmEmx"
   },
   "outputs": [
    {
     "name": "stdout",
     "output_type": "stream",
     "text": [
      "--2024-10-22 20:22:22--  https://raw.githubusercontent.com/moussaKam/transfer_learning_transformers/main/cls-books/train.review.spm\n",
      "Resolving raw.githubusercontent.com (raw.githubusercontent.com)... 2606:50c0:8003::154, 2606:50c0:8000::154, 2606:50c0:8002::154, ...\n",
      "Connecting to raw.githubusercontent.com (raw.githubusercontent.com)|2606:50c0:8003::154|:443... connected.\n",
      "HTTP request sent, awaiting response... 200 OK\n",
      "Length: 1495960 (1.4M) [text/plain]\n",
      "Saving to: ‘train.review.spm.2’\n",
      "\n",
      "train.review.spm.2  100%[===================>]   1.43M  --.-KB/s    in 0.08s   \n",
      "\n",
      "2024-10-22 20:22:22 (18.0 MB/s) - ‘train.review.spm.2’ saved [1495960/1495960]\n",
      "\n",
      "--2024-10-22 20:22:22--  https://raw.githubusercontent.com/moussaKam/transfer_learning_transformers/main/cls-books/train.label\n",
      "Resolving raw.githubusercontent.com (raw.githubusercontent.com)... 2606:50c0:8002::154, 2606:50c0:8000::154, 2606:50c0:8003::154, ...\n",
      "Connecting to raw.githubusercontent.com (raw.githubusercontent.com)|2606:50c0:8002::154|:443... connected.\n",
      "HTTP request sent, awaiting response... 200 OK\n",
      "Length: 3200 (3.1K) [text/plain]\n",
      "Saving to: ‘train.label.2’\n",
      "\n",
      "train.label.2       100%[===================>]   3.12K  --.-KB/s    in 0s      \n",
      "\n",
      "2024-10-22 20:22:22 (97.7 MB/s) - ‘train.label.2’ saved [3200/3200]\n",
      "\n",
      "--2024-10-22 20:22:22--  https://raw.githubusercontent.com/moussaKam/transfer_learning_transformers/main/cls-books/test.review.spm\n",
      "Resolving raw.githubusercontent.com (raw.githubusercontent.com)... 2606:50c0:8003::154, 2606:50c0:8001::154, 2606:50c0:8000::154, ...\n",
      "Connecting to raw.githubusercontent.com (raw.githubusercontent.com)|2606:50c0:8003::154|:443... connected.\n",
      "HTTP request sent, awaiting response... 200 OK\n",
      "Length: 1864544 (1.8M) [text/plain]\n",
      "Saving to: ‘test.review.spm.2’\n",
      "\n",
      "test.review.spm.2   100%[===================>]   1.78M  --.-KB/s    in 0.07s   \n",
      "\n",
      "2024-10-22 20:22:23 (24.4 MB/s) - ‘test.review.spm.2’ saved [1864544/1864544]\n",
      "\n",
      "--2024-10-22 20:22:23--  https://raw.githubusercontent.com/moussaKam/transfer_learning_transformers/main/cls-books/test.label\n",
      "Resolving raw.githubusercontent.com (raw.githubusercontent.com)... 2606:50c0:8000::154, 2606:50c0:8002::154, 2606:50c0:8001::154, ...\n",
      "Connecting to raw.githubusercontent.com (raw.githubusercontent.com)|2606:50c0:8000::154|:443... connected.\n",
      "HTTP request sent, awaiting response... 200 OK\n",
      "Length: 4000 (3.9K) [text/plain]\n",
      "Saving to: ‘test.label.2’\n",
      "\n",
      "test.label.2        100%[===================>]   3.91K  --.-KB/s    in 0s      \n",
      "\n",
      "2024-10-22 20:22:23 (132 MB/s) - ‘test.label.2’ saved [4000/4000]\n",
      "\n"
     ]
    }
   ],
   "source": [
    "!wget https://raw.githubusercontent.com/moussaKam/transfer_learning_transformers/main/cls-books/train.review.spm\n",
    "!wget https://raw.githubusercontent.com/moussaKam/transfer_learning_transformers/main/cls-books/train.label\n",
    "!wget https://raw.githubusercontent.com/moussaKam/transfer_learning_transformers/main/cls-books/test.review.spm\n",
    "!wget https://raw.githubusercontent.com/moussaKam/transfer_learning_transformers/main/cls-books/test.label\n",
    "\n",
    "path_data_train = \"train.review.spm\"\n",
    "path_labels_train = \"train.label\"\n",
    "\n",
    "path_data_valid = \"test.review.spm\"\n",
    "path_labels_valid = \"test.label\""
   ]
  },
  {
   "cell_type": "code",
   "execution_count": 22,
   "metadata": {
    "id": "_MLfvjiom2SL"
   },
   "outputs": [],
   "source": [
    "# a function to evaluate the validation accuracy of the model.\n",
    "def evaluate_accuracy(data_loader):\n",
    "    accuracy = 0\n",
    "    for i in data_loader:\n",
    "        src_mask = model.base.generate_square_subsequent_mask(i[0].size(0)).to(device)\n",
    "        input = i[0].to(device)\n",
    "        with torch.no_grad():\n",
    "            output = model(input, src_mask)\n",
    "        target = i[1].to(device)\n",
    "        output_pred = torch.argmax(output[-1], dim=1)\n",
    "        accuracy += torch.sum(output_pred == target).item()/(len(output_pred)*len(data_loader))\n",
    "        #print(torch.sum(output_pred == target).item())\n",
    "    return accuracy\n"
   ]
  },
  {
   "cell_type": "code",
   "execution_count": 23,
   "metadata": {
    "id": "qzmx7T7xoa6v"
   },
   "outputs": [],
   "source": [
    "#save the base model to be loaded later in the fine-tuning phase\n",
    "torch.save({\"model_state_dict\": model.base.state_dict(),}, \"pretrained_model_4layers_no_class_head.pt\")"
   ]
  },
  {
   "cell_type": "code",
   "execution_count": 26,
   "metadata": {
    "id": "i-xclMCpnVpw",
    "scrolled": true
   },
   "outputs": [
    {
     "name": "stderr",
     "output_type": "stream",
     "text": [
      "/home/plondres/anaconda3/envs/test/lib/python3.10/site-packages/torch/nn/modules/transformer.py:307: UserWarning: enable_nested_tensor is True, but self.use_nested_tensor is False because encoder_layer.self_attn.batch_first was not True(use batch_first for better inference performance)\n",
      "  warnings.warn(f\"enable_nested_tensor is True, but self.use_nested_tensor is False because {why_not_sparsity_fast_path}\")\n"
     ]
    },
    {
     "name": "stdout",
     "output_type": "stream",
     "text": [
      "=====Trainig FROM SCRATCH======\n",
      "| epoch   1 |    50/  200 steps | loss 0.77196 | ppl    2.164\n",
      "| epoch   1 |   100/  200 steps | loss 0.71800 | ppl    2.050\n",
      "| epoch   1 |   150/  200 steps | loss 0.69676 | ppl    2.007\n",
      "| epoch   2 |    50/  200 steps | loss 0.62779 | ppl    1.873\n",
      "| epoch   2 |   100/  200 steps | loss 0.65088 | ppl    1.917\n",
      "| epoch   2 |   150/  200 steps | loss 0.59789 | ppl    1.818\n",
      "| epoch   3 |    50/  200 steps | loss 0.42456 | ppl    1.529\n",
      "| epoch   3 |   100/  200 steps | loss 0.36439 | ppl    1.440\n",
      "| epoch   3 |   150/  200 steps | loss 0.32994 | ppl    1.391\n",
      "| epoch   4 |    50/  200 steps | loss 0.09895 | ppl    1.104\n",
      "| epoch   4 |   100/  200 steps | loss 0.08954 | ppl    1.094\n",
      "| epoch   4 |   150/  200 steps | loss 0.16149 | ppl    1.175\n",
      "| epoch   5 |    50/  200 steps | loss 0.00787 | ppl    1.008\n",
      "| epoch   5 |   100/  200 steps | loss 0.07577 | ppl    1.079\n",
      "| epoch   5 |   150/  200 steps | loss 0.01636 | ppl    1.016\n",
      "| epoch   6 |    50/  200 steps | loss 0.00034 | ppl    1.000\n",
      "| epoch   6 |   100/  200 steps | loss 0.00434 | ppl    1.004\n",
      "| epoch   6 |   150/  200 steps | loss 0.00080 | ppl    1.001\n",
      "| epoch   7 |    50/  200 steps | loss 0.00019 | ppl    1.000\n",
      "| epoch   7 |   100/  200 steps | loss 0.00002 | ppl    1.000\n",
      "| epoch   7 |   150/  200 steps | loss 0.00123 | ppl    1.001\n",
      "| epoch   8 |    50/  200 steps | loss 0.00002 | ppl    1.000\n",
      "| epoch   8 |   100/  200 steps | loss 0.00001 | ppl    1.000\n",
      "| epoch   8 |   150/  200 steps | loss 0.00001 | ppl    1.000\n",
      "| epoch   9 |    50/  200 steps | loss 0.00001 | ppl    1.000\n",
      "| epoch   9 |   100/  200 steps | loss 0.00001 | ppl    1.000\n",
      "| epoch   9 |   150/  200 steps | loss 0.00001 | ppl    1.000\n",
      "| epoch  10 |    50/  200 steps | loss 0.00001 | ppl    1.000\n",
      "| epoch  10 |   100/  200 steps | loss 0.00001 | ppl    1.000\n",
      "| epoch  10 |   150/  200 steps | loss 0.00001 | ppl    1.000\n",
      "| epoch  11 |    50/  200 steps | loss 0.00001 | ppl    1.000\n",
      "| epoch  11 |   100/  200 steps | loss 0.00001 | ppl    1.000\n",
      "| epoch  11 |   150/  200 steps | loss 0.00001 | ppl    1.000\n",
      "| epoch  12 |    50/  200 steps | loss 0.00001 | ppl    1.000\n",
      "| epoch  12 |   100/  200 steps | loss 0.00001 | ppl    1.000\n",
      "| epoch  12 |   150/  200 steps | loss 0.00001 | ppl    1.000\n",
      "| epoch  13 |    50/  200 steps | loss 0.00001 | ppl    1.000\n",
      "| epoch  13 |   100/  200 steps | loss 0.00000 | ppl    1.000\n",
      "| epoch  13 |   150/  200 steps | loss 0.00000 | ppl    1.000\n",
      "| epoch  14 |    50/  200 steps | loss 0.00000 | ppl    1.000\n",
      "| epoch  14 |   100/  200 steps | loss 0.00000 | ppl    1.000\n",
      "| epoch  14 |   150/  200 steps | loss 0.00000 | ppl    1.000\n",
      "| epoch  15 |    50/  200 steps | loss 0.00001 | ppl    1.000\n",
      "| epoch  15 |   100/  200 steps | loss 0.00000 | ppl    1.000\n",
      "| epoch  15 |   150/  200 steps | loss 0.00000 | ppl    1.000\n",
      "\n",
      "=====PRETRAINED MODEL======\n"
     ]
    },
    {
     "name": "stderr",
     "output_type": "stream",
     "text": [
      "/tmp/ipykernel_6147/4004779070.py:14: FutureWarning: You are using `torch.load` with `weights_only=False` (the current default value), which uses the default pickle module implicitly. It is possible to construct malicious pickle data which will execute arbitrary code during unpickling (See https://github.com/pytorch/pytorch/blob/main/SECURITY.md#untrusted-models for more details). In a future release, the default value for `weights_only` will be flipped to `True`. This limits the functions that could be executed during unpickling. Arbitrary objects will no longer be allowed to be loaded via this mode unless they are explicitly allowlisted by the user via `torch.serialization.add_safe_globals`. We recommend you start setting `weights_only=True` for any use case where you don't have full control of the loaded file. Please open an issue on GitHub for any issues related to this experimental feature.\n",
      "  checkpoint = torch.load(\"pretrained_model_4layers_no_class_head.pt\")\n"
     ]
    },
    {
     "name": "stdout",
     "output_type": "stream",
     "text": [
      "| epoch   1 |    50/  200 steps | loss 0.80422 | ppl    2.235\n",
      "| epoch   1 |   100/  200 steps | loss 0.70942 | ppl    2.033\n",
      "| epoch   1 |   150/  200 steps | loss 0.67757 | ppl    1.969\n",
      "| epoch   2 |    50/  200 steps | loss 0.46380 | ppl    1.590\n",
      "| epoch   2 |   100/  200 steps | loss 0.49669 | ppl    1.643\n",
      "| epoch   2 |   150/  200 steps | loss 0.45135 | ppl    1.570\n",
      "| epoch   3 |    50/  200 steps | loss 0.41011 | ppl    1.507\n",
      "| epoch   3 |   100/  200 steps | loss 0.37783 | ppl    1.459\n",
      "| epoch   3 |   150/  200 steps | loss 0.32187 | ppl    1.380\n",
      "| epoch   4 |    50/  200 steps | loss 0.21459 | ppl    1.239\n",
      "| epoch   4 |   100/  200 steps | loss 0.29949 | ppl    1.349\n",
      "| epoch   4 |   150/  200 steps | loss 0.29519 | ppl    1.343\n",
      "| epoch   5 |    50/  200 steps | loss 0.16262 | ppl    1.177\n",
      "| epoch   5 |   100/  200 steps | loss 0.16783 | ppl    1.183\n",
      "| epoch   5 |   150/  200 steps | loss 0.09944 | ppl    1.105\n",
      "| epoch   6 |    50/  200 steps | loss 0.05234 | ppl    1.054\n",
      "| epoch   6 |   100/  200 steps | loss 0.07487 | ppl    1.078\n",
      "| epoch   6 |   150/  200 steps | loss 0.06173 | ppl    1.064\n",
      "| epoch   7 |    50/  200 steps | loss 0.03571 | ppl    1.036\n",
      "| epoch   7 |   100/  200 steps | loss 0.01345 | ppl    1.014\n",
      "| epoch   7 |   150/  200 steps | loss 0.04700 | ppl    1.048\n",
      "| epoch   8 |    50/  200 steps | loss 0.00093 | ppl    1.001\n",
      "| epoch   8 |   100/  200 steps | loss 0.00163 | ppl    1.002\n",
      "| epoch   8 |   150/  200 steps | loss 0.01324 | ppl    1.013\n",
      "| epoch   9 |    50/  200 steps | loss 0.00005 | ppl    1.000\n",
      "| epoch   9 |   100/  200 steps | loss 0.00035 | ppl    1.000\n",
      "| epoch   9 |   150/  200 steps | loss 0.00005 | ppl    1.000\n",
      "| epoch  10 |    50/  200 steps | loss 0.00075 | ppl    1.001\n",
      "| epoch  10 |   100/  200 steps | loss 0.00000 | ppl    1.000\n",
      "| epoch  10 |   150/  200 steps | loss 0.00001 | ppl    1.000\n",
      "| epoch  11 |    50/  200 steps | loss 0.00004 | ppl    1.000\n",
      "| epoch  11 |   100/  200 steps | loss 0.02021 | ppl    1.020\n",
      "| epoch  11 |   150/  200 steps | loss 0.00006 | ppl    1.000\n",
      "| epoch  12 |    50/  200 steps | loss 0.00001 | ppl    1.000\n",
      "| epoch  12 |   100/  200 steps | loss 0.00000 | ppl    1.000\n",
      "| epoch  12 |   150/  200 steps | loss 0.00165 | ppl    1.002\n",
      "| epoch  13 |    50/  200 steps | loss 0.00006 | ppl    1.000\n",
      "| epoch  13 |   100/  200 steps | loss 0.00024 | ppl    1.000\n",
      "| epoch  13 |   150/  200 steps | loss 0.00034 | ppl    1.000\n",
      "| epoch  14 |    50/  200 steps | loss 0.00002 | ppl    1.000\n",
      "| epoch  14 |   100/  200 steps | loss 0.00010 | ppl    1.000\n",
      "| epoch  14 |   150/  200 steps | loss 0.00002 | ppl    1.000\n",
      "| epoch  15 |    50/  200 steps | loss 0.00002 | ppl    1.000\n",
      "| epoch  15 |   100/  200 steps | loss 0.00009 | ppl    1.000\n",
      "| epoch  15 |   150/  200 steps | loss 0.00144 | ppl    1.001\n",
      "\n"
     ]
    }
   ],
   "source": [
    "from_scratch_settings = [True, False]\n",
    "\n",
    "from_scratch_valid_acc = []\n",
    "pretrained_valid_acc = []\n",
    "lr = 0.0001\n",
    "\n",
    "for from_scratch in from_scratch_settings:\n",
    "    model = Model(ntokens, nhead, nhid, nlayers, 2, dropout).to(device)\n",
    "    criterion = nn.CrossEntropyLoss()\n",
    "    optimizer = torch.optim.Adam(model.parameters(), lr=lr)\n",
    "    if not from_scratch:\n",
    "        print(\"=====PRETRAINED MODEL======\")\n",
    "        #load checkpoint\n",
    "        checkpoint = torch.load(\"pretrained_model_4layers_no_class_head.pt\")\n",
    "        #load state dict\n",
    "        model.base.load_state_dict(checkpoint['model_state_dict'])\n",
    "    else:\n",
    "        print(\"=====Trainig FROM SCRATCH======\")\n",
    "    epochs = 15\n",
    "    for epoch in range(1, epochs + 1):\n",
    "        acc = evaluate_accuracy(\n",
    "            get_loader(\n",
    "                path_data_valid,\n",
    "                path_labels_valid,\n",
    "                token2ind=token2ind,\n",
    "                batch_size=20,\n",
    "                task='classification',\n",
    "            )\n",
    "        )\n",
    "        train(\n",
    "            path_data_train,\n",
    "            path_labels_train,\n",
    "            save_interval=-1,\n",
    "            task='classification',\n",
    "            batch_size=8,\n",
    "            log_interval=50,\n",
    "        )\n",
    "        if from_scratch:\n",
    "            from_scratch_valid_acc.append(acc)\n",
    "        else:\n",
    "            pretrained_valid_acc.append(acc)\n",
    "    print()"
   ]
  },
  {
   "cell_type": "code",
   "execution_count": 28,
   "metadata": {
    "id": "RCpBIdTHojm6"
   },
   "outputs": [
    {
     "data": {
      "image/png": "[encoded data removed]",
      "text/plain": [
       "<Figure size 640x480 with 1 Axes>"
      ]
     },
     "metadata": {},
     "output_type": "display_data"
    }
   ],
   "source": [
    "#Visualize the accuracy\n",
    "import matplotlib.pyplot as plt\n",
    "plt.plot(from_scratch_valid_acc, label='From scratch')\n",
    "plt.plot(pretrained_valid_acc, label='Pre-trained')\n",
    "plt.xlabel('Epochs')\n",
    "plt.ylabel('Accuracy')\n",
    "plt.legend()\n",
    "plt.title('Accuracy comparison between training from scratch and pre-trained model')\n",
    "plt.show()"
   ]
  },
  {
   "cell_type": "code",
   "execution_count": null,
   "metadata": {},
   "outputs": [],
   "source": []
  }
 ],
 "metadata": {
  "accelerator": "GPU",
  "colab": {
   "provenance": []
  },
  "kernelspec": {
   "display_name": "Python test",
   "language": "python",
   "name": "test"
  },
  "language_info": {
   "codemirror_mode": {
    "name": "ipython",
    "version": 3
   },
   "file_extension": ".py",
   "mimetype": "text/x-python",
   "name": "python",
   "nbconvert_exporter": "python",
   "pygments_lexer": "ipython3",
   "version": "3.10.14"
  },
  "vscode": {
   "interpreter": {
    "hash": "1f3cfdeab8dd8f9900bd16266619de191cf0f5e09365d74b1fba1714dce58066"
   }
  }
 },
 "nbformat": 4,
 "nbformat_minor": 4
}
